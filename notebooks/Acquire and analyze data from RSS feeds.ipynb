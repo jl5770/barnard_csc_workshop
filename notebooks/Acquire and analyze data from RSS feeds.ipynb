{
 "cells": [
  {
   "cell_type": "markdown",
   "metadata": {},
   "source": [
    "# Data Analysis for Social Media: A Primer on the Twitter API\n",
    "**Vagelos Computational Science Center, Barnard College (October 7, 2022)**\n",
    "\n",
    "Instructor: Jack LaViolette (he/him), PhD student, Columbia Sociology and the Interdisciplinary Center for Innovative Theory and Empirics\n",
    "- jl5770@columbia.edu\n",
    "- @jack_laviolette\n",
    "\n",
    "The first part of this workshop will acquaint you with the basic building blocks of coding and manipulating data in Python:\n",
    "- **Python fundamentals**\n",
    "    - strings, integers, floats, Booleans, lists, dictionaries, functions\n",
    "- **Working with tabular data**\n",
    "    - the ``pandas`` library and ``DataFrame`` class\n",
    "\n",
    "Once we have a bit of familiarity exploring data in Python, in the second part we will apply these skills to Twitter data that you will extract yourself:\n",
    "- **Accessing data from Twitter**\n",
    "    - Twitter API + ``tweepy``\n",
    "- **Visualizing data**\n",
    "    - Scatterplots, histograms, and line plots with ``matplotlib.pyplot``\n",
    "- **Text analysis**\n",
    "    - Sentiment analysis and semantic similarity with ``spacy`` and ``word2vec``\n",
    "\n",
    "There is a **lot** of material here for a two-hour beginner workshop, so please don't worry if you feel overwhelmed! My hope is that you leave feeling that these are skills you could imagine developing further on your own. I chose the Twitter API instead of a static dataset because you can repurpose this code notebook to explore your own questions related to social media data."
   ]
  },
  {
   "cell_type": "markdown",
   "metadata": {},
   "source": [
    "## Part 1a: a very brief introduction to Python basics\n",
    "\n",
    "There are four fundamental **data types** in Python. These are:\n",
    "\n",
    "- **Strings**\n",
    "- **Integers**\n",
    "- **Floats**\n",
    "- **Booleans**\n",
    "\n",
    "There are many other, more complex types of data structures, some of which we will encounter later today, but these are the building blocks. \n",
    "\n",
    "You can store these values by assigning them to a **variable** using the ``=`` sign. Variable names cannot contain spaces and cannot start with a number, but can otherwise be anything you want (in general, short and descriptive is good).\n",
    "\n",
    "``variable_name = variable_value``"
   ]
  },
  {
   "cell_type": "markdown",
   "metadata": {},
   "source": [
    "### Strings"
   ]
  },
  {
   "cell_type": "markdown",
   "metadata": {},
   "source": [
    "**\"Strings\"** are Unicode characters: basically, **text data**. In Python, you denote a string with **quotation marks**. You can use single or double quotes, but you have to be consistent for a given string (i.e., if you start with a single quote, you must end with a single quote):"
   ]
  },
  {
   "cell_type": "code",
   "execution_count": 300,
   "metadata": {},
   "outputs": [
    {
     "name": "stdout",
     "output_type": "stream",
     "text": [
      "this string has single quotes\n",
      "this string has double quotes\n"
     ]
    }
   ],
   "source": [
    "string1 = 'this string has single quotes'\n",
    "string2 = \"this string has double quotes\"\n",
    "\n",
    "print(string1) # the print function will display the value of an assigned variable\n",
    "print(string2)"
   ]
  },
  {
   "cell_type": "markdown",
   "metadata": {},
   "source": [
    "You can also \"add\" strings together with the ``+`` sign; this is called \"concatenation\":"
   ]
  },
  {
   "cell_type": "code",
   "execution_count": 301,
   "metadata": {},
   "outputs": [
    {
     "name": "stdout",
     "output_type": "stream",
     "text": [
      "Concatenation\n"
     ]
    }
   ],
   "source": [
    "string3 = 'Concat'\n",
    "string4 = 'enation'\n",
    "\n",
    "print(string3 + string4)"
   ]
  },
  {
   "cell_type": "markdown",
   "metadata": {},
   "source": [
    "Python strings come with all sorts of **built-in methods** for modifying them. We won't cover many of these, but some simple examples here:"
   ]
  },
  {
   "cell_type": "code",
   "execution_count": 302,
   "metadata": {},
   "outputs": [
    {
     "name": "stdout",
     "output_type": "stream",
     "text": [
      "concat\n",
      "CONCAT\n",
      "Condog\n"
     ]
    }
   ],
   "source": [
    "print(string3.lower()) # lowercases the string\n",
    "print(string3.upper()) # uppercases the string\n",
    "print(string3.replace(\"cat\",\"dog\")) # replaces any instance of 'cat' to 'dog'\n"
   ]
  },
  {
   "cell_type": "markdown",
   "metadata": {},
   "source": [
    "### Integers"
   ]
  },
  {
   "cell_type": "markdown",
   "metadata": {},
   "source": [
    "**Integers** are intuitive to use. You can do arithmetic with them as you would expect:"
   ]
  },
  {
   "cell_type": "code",
   "execution_count": 303,
   "metadata": {},
   "outputs": [
    {
     "name": "stdout",
     "output_type": "stream",
     "text": [
      "9\n",
      "14\n",
      "5.0\n",
      "8\n"
     ]
    }
   ],
   "source": [
    "print(6 + 3)\n",
    "print(7 * 2)\n",
    "print(20 / 4)\n",
    "print(2 ** 3) # the double asterisk is for raising to a power"
   ]
  },
  {
   "cell_type": "markdown",
   "metadata": {},
   "source": [
    "### Floats"
   ]
  },
  {
   "cell_type": "markdown",
   "metadata": {},
   "source": [
    "**Floats** behave the same way. You can perform arithmetic mixing **floats and integers**."
   ]
  },
  {
   "cell_type": "code",
   "execution_count": 304,
   "metadata": {},
   "outputs": [
    {
     "name": "stdout",
     "output_type": "stream",
     "text": [
      "13.2\n"
     ]
    }
   ],
   "source": [
    "print(6.2 + 7)"
   ]
  },
  {
   "cell_type": "markdown",
   "metadata": {},
   "source": [
    "### Booleans"
   ]
  },
  {
   "cell_type": "markdown",
   "metadata": {},
   "source": [
    "**Boolean** variables have values of either **True** or **False** (capitalization required):"
   ]
  },
  {
   "cell_type": "code",
   "execution_count": 305,
   "metadata": {},
   "outputs": [],
   "source": [
    "boolean1 = True\n",
    "boolean2 = False"
   ]
  },
  {
   "cell_type": "markdown",
   "metadata": {},
   "source": [
    "These can be helpful for filtering data, as we will see later. The **identity operator** ``==`` can be read as \"is equal to\", and will return a Boolean. The ``=!`` operator reads \"is not equal to\" and functions similarly. An example below:"
   ]
  },
  {
   "cell_type": "code",
   "execution_count": 306,
   "metadata": {},
   "outputs": [
    {
     "name": "stdout",
     "output_type": "stream",
     "text": [
      "True\n",
      "False\n",
      "True\n"
     ]
    }
   ],
   "source": [
    "a = 5\n",
    "b = 5\n",
    "c = 7\n",
    "\n",
    "print(a == b)\n",
    "print(a == c)\n",
    "print(a != c)"
   ]
  },
  {
   "cell_type": "markdown",
   "metadata": {},
   "source": [
    "You can also use the ``>`` and ``<`` signs to compare values:"
   ]
  },
  {
   "cell_type": "code",
   "execution_count": 307,
   "metadata": {},
   "outputs": [
    {
     "data": {
      "text/plain": [
       "False"
      ]
     },
     "execution_count": 307,
     "metadata": {},
     "output_type": "execute_result"
    }
   ],
   "source": [
    "a > c"
   ]
  },
  {
   "cell_type": "markdown",
   "metadata": {},
   "source": [
    "### Lists"
   ]
  },
  {
   "cell_type": "markdown",
   "metadata": {},
   "source": [
    "Very often, you'll want to **store multiple values in a list**. Lists can contain different types of values (you can mix strings, integers, etc., along with other more complicated data types.\n",
    "\n",
    "You can create a list with **square brackets**, with elements separated by commas: ``[item1, item2, item3]``\n",
    "\n"
   ]
  },
  {
   "cell_type": "code",
   "execution_count": 308,
   "metadata": {},
   "outputs": [
    {
     "name": "stdout",
     "output_type": "stream",
     "text": [
      "['a', 7, 9.1]\n"
     ]
    }
   ],
   "source": [
    "my_list = ['a', 7, 9.1]\n",
    "\n",
    "print(my_list)"
   ]
  },
  {
   "cell_type": "markdown",
   "metadata": {},
   "source": [
    "To access a specific item in the list, you can reference it by its position in the list (its **'index'**). You do this with a square bracket containing the index number to the right of the list.\n",
    "\n",
    "**IMPORTANT**: Python is **'zero-indexed,'** which means that the first item in a list is referred to by the index 0 rather than 1."
   ]
  },
  {
   "cell_type": "code",
   "execution_count": 309,
   "metadata": {},
   "outputs": [
    {
     "name": "stdout",
     "output_type": "stream",
     "text": [
      "a\n",
      "9.1\n",
      "7\n"
     ]
    }
   ],
   "source": [
    "print(my_list[0])\n",
    "print(my_list[2])\n",
    "print(my_list[1])"
   ]
  },
  {
   "cell_type": "markdown",
   "metadata": {},
   "source": [
    "You can **add new elements** to a list with the ``append`` function:"
   ]
  },
  {
   "cell_type": "code",
   "execution_count": 310,
   "metadata": {},
   "outputs": [
    {
     "name": "stdout",
     "output_type": "stream",
     "text": [
      "['a', 7, 9.1, 'new item']\n"
     ]
    }
   ],
   "source": [
    "my_list.append('new item')\n",
    "print(my_list)"
   ]
  },
  {
   "cell_type": "markdown",
   "metadata": {},
   "source": [
    "You can also **combine** lists with the ``+`` operator:"
   ]
  },
  {
   "cell_type": "code",
   "execution_count": 311,
   "metadata": {},
   "outputs": [
    {
     "data": {
      "text/plain": [
       "['a', 7, 9.1, 'new item', 1, 2, 3, 4, 5]"
      ]
     },
     "execution_count": 311,
     "metadata": {},
     "output_type": "execute_result"
    }
   ],
   "source": [
    "new_list = [1,2,3,4,5]\n",
    "\n",
    "my_list + new_list"
   ]
  },
  {
   "cell_type": "markdown",
   "metadata": {},
   "source": [
    "Lists can even contain other lists!"
   ]
  },
  {
   "cell_type": "code",
   "execution_count": 59,
   "metadata": {},
   "outputs": [
    {
     "name": "stdout",
     "output_type": "stream",
     "text": [
      "[1, 2, 3]\n",
      "[4, 5, 6]\n"
     ]
    }
   ],
   "source": [
    "list_of_lists = [[1,2,3], [4,5,6]]\n",
    "\n",
    "print(list_of_lists[0])\n",
    "print(list_of_lists[1])"
   ]
  },
  {
   "cell_type": "markdown",
   "metadata": {},
   "source": [
    "### For loops"
   ]
  },
  {
   "cell_type": "markdown",
   "metadata": {},
   "source": [
    "When working with lists or other sequences of values, you'll often want to **iterate** over them and perform some **operation** on each element of the list. A very common way of achieving this is called a **for loop**:"
   ]
  },
  {
   "cell_type": "code",
   "execution_count": 16,
   "metadata": {},
   "outputs": [
    {
     "name": "stdout",
     "output_type": "stream",
     "text": [
      "2\n",
      "4\n",
      "6\n",
      "8\n",
      "10\n"
     ]
    }
   ],
   "source": [
    "for i in new_list: # you can use any name in place of 'i' to reference each element of the list, but i is conventionally used.\n",
    "    \n",
    "    print(i * 2)\n",
    "    "
   ]
  },
  {
   "cell_type": "markdown",
   "metadata": {},
   "source": [
    "### Dictionaries"
   ]
  },
  {
   "cell_type": "markdown",
   "metadata": {},
   "source": [
    "Finally, you'll often want to store **pairs of values** (for example, user IDs and passwords). The simplest and most common way to achieve this is with a **dictionary**. The two elements of the pair are called the **\"key\" and the \"value\"**. Dictionaries are denoted by **curly brackets**: { }\n",
    "\n",
    "Within the curly brackets, you can set key value pairs like this:\n",
    "\n",
    "``{key1:value1, key2:value2, key3:value3}``\n",
    "\n",
    "You then pass the dictionary a key and it will return the corresponding value, the same way you get elements from lists with the index."
   ]
  },
  {
   "cell_type": "code",
   "execution_count": 30,
   "metadata": {},
   "outputs": [
    {
     "name": "stdout",
     "output_type": "stream",
     "text": [
      "Paris\n"
     ]
    }
   ],
   "source": [
    "capitals = {\n",
    "    \"France\":\"Paris\",\n",
    "    \"Argentina\":\"Buenos Aires\",\n",
    "    \"Indonesia\":\"Jakarta\"\n",
    "}\n",
    "\n",
    "print(dictionary[\"France\"])\n",
    "\n"
   ]
  },
  {
   "cell_type": "markdown",
   "metadata": {},
   "source": [
    "You can also add items to a dictionary as such:"
   ]
  },
  {
   "cell_type": "code",
   "execution_count": 31,
   "metadata": {},
   "outputs": [
    {
     "name": "stdout",
     "output_type": "stream",
     "text": [
      "{'France': 'Paris', 'Argentina': 'Buenos Aires', 'Indonesia': 'Jakarta', 'Egypt': 'Cairo'}\n"
     ]
    }
   ],
   "source": [
    "capitals['Egypt'] = 'Cairo'\n",
    "\n",
    "print(capitals)"
   ]
  },
  {
   "cell_type": "markdown",
   "metadata": {},
   "source": [
    "### Defining custom functions"
   ]
  },
  {
   "cell_type": "markdown",
   "metadata": {},
   "source": [
    "Often, you will want to repeatedly apply the same sequence of commands to different data. An efficient way to do this can be to define a **custom function**, which takes an **input** or multiple inputs, does something to it, and returns an **output**. The format to define a function is this:\n",
    "\n",
    "``def function_name(function_input1, function_input2...etc):\n",
    "      do some stuff \n",
    "      return output``"
   ]
  },
  {
   "cell_type": "code",
   "execution_count": 32,
   "metadata": {},
   "outputs": [
    {
     "name": "stdout",
     "output_type": "stream",
     "text": [
      "64\n",
      "2.0\n"
     ]
    }
   ],
   "source": [
    "def cube(number):\n",
    "    \n",
    "    output = number ** 3\n",
    "    \n",
    "    return output\n",
    "\n",
    "def halve(number):\n",
    "    \n",
    "    output = number / 2\n",
    "    \n",
    "    return output\n",
    "\n",
    "print(cube(4))\n",
    "print(halve(4))"
   ]
  },
  {
   "cell_type": "markdown",
   "metadata": {},
   "source": [
    "You can also **chain functions together** like this, using the output of one as the input of the next. In this case, we are using the output of our function ``halve`` as the input of our function ``cube``:"
   ]
  },
  {
   "cell_type": "code",
   "execution_count": 33,
   "metadata": {
    "scrolled": true
   },
   "outputs": [
    {
     "data": {
      "text/plain": [
       "8.0"
      ]
     },
     "execution_count": 33,
     "metadata": {},
     "output_type": "execute_result"
    }
   ],
   "source": [
    "cube(halve(4))"
   ]
  },
  {
   "cell_type": "markdown",
   "metadata": {},
   "source": [
    "Great, you've learned some of foundational aspects of coding in Python! These might all seem very basic, but you'd be surprised what you can accomplish with just the above tools."
   ]
  },
  {
   "cell_type": "markdown",
   "metadata": {},
   "source": [
    "## Part 1b: Tabular data with the ``pandas`` library"
   ]
  },
  {
   "cell_type": "markdown",
   "metadata": {},
   "source": [
    "Everything we've done so far has been in **\"base Python.\"** These features are all included when you download any versioin of Python.  \n",
    "\n",
    "Very often, however, you'll want to use **\"libraries\" or \"packages,\"** collections of code other people have written to accomplish certain tasks. Some are quite general and very widely used, while others are tailored to extremely specific tasks. \n",
    "\n",
    "One of the most widely used Python libraries is called ``pandas``, which we will use to work with **tabular data** (think, a spreadsheet).\n",
    "\n",
    "To access a library, you'll have to ``import`` it. When importing, you can import a package ``as`` a shorthand name for ease of reference. It is convention in Python to import ``pandas`` as ``pd``:"
   ]
  },
  {
   "cell_type": "code",
   "execution_count": 60,
   "metadata": {},
   "outputs": [],
   "source": [
    "import pandas as pd"
   ]
  },
  {
   "cell_type": "markdown",
   "metadata": {},
   "source": [
    "The main ``pandas`` data type we will be using is called a ``DataFrame``: basically, a table of data.\n",
    "\n",
    "There are many, many ways to create ``DataFrames`` with ``pandas``. For example, you could read in a .csv file you have stored on your computer, read an HTML table from a website, create them from lists and/or dictionaries, and so on. Later we will be creating a DataFrame from a list of dictionaries. \n",
    "\n",
    "One of the simplest ways to create a ``DataFrame`` is to simply read in a .csv file, where stored locally on your computer or at URL. Here's a URL of a .csv file containing data from 979 IMDB pages. We can access it as a ``DataFrame`` with the method ``pd.read_csv()``:"
   ]
  },
  {
   "cell_type": "code",
   "execution_count": 348,
   "metadata": {},
   "outputs": [],
   "source": [
    "imdb = \"https://raw.githubusercontent.com/justmarkham/DAT7/master/data/imdb_1000.csv\"\n",
    "\n",
    "df = pd.read_csv(imdb)"
   ]
  },
  {
   "cell_type": "markdown",
   "metadata": {},
   "source": [
    "We've made a DataFrame! We can look at the top N rows of it with the ``head()`` function (default is 5 rows):"
   ]
  },
  {
   "cell_type": "code",
   "execution_count": 349,
   "metadata": {},
   "outputs": [
    {
     "data": {
      "text/html": [
       "<div>\n",
       "<style scoped>\n",
       "    .dataframe tbody tr th:only-of-type {\n",
       "        vertical-align: middle;\n",
       "    }\n",
       "\n",
       "    .dataframe tbody tr th {\n",
       "        vertical-align: top;\n",
       "    }\n",
       "\n",
       "    .dataframe thead th {\n",
       "        text-align: right;\n",
       "    }\n",
       "</style>\n",
       "<table border=\"1\" class=\"dataframe\">\n",
       "  <thead>\n",
       "    <tr style=\"text-align: right;\">\n",
       "      <th></th>\n",
       "      <th>star_rating</th>\n",
       "      <th>title</th>\n",
       "      <th>content_rating</th>\n",
       "      <th>genre</th>\n",
       "      <th>duration</th>\n",
       "      <th>actors_list</th>\n",
       "    </tr>\n",
       "  </thead>\n",
       "  <tbody>\n",
       "    <tr>\n",
       "      <th>0</th>\n",
       "      <td>9.3</td>\n",
       "      <td>The Shawshank Redemption</td>\n",
       "      <td>R</td>\n",
       "      <td>Crime</td>\n",
       "      <td>142</td>\n",
       "      <td>[u'Tim Robbins', u'Morgan Freeman', u'Bob Gunt...</td>\n",
       "    </tr>\n",
       "    <tr>\n",
       "      <th>1</th>\n",
       "      <td>9.2</td>\n",
       "      <td>The Godfather</td>\n",
       "      <td>R</td>\n",
       "      <td>Crime</td>\n",
       "      <td>175</td>\n",
       "      <td>[u'Marlon Brando', u'Al Pacino', u'James Caan']</td>\n",
       "    </tr>\n",
       "    <tr>\n",
       "      <th>2</th>\n",
       "      <td>9.1</td>\n",
       "      <td>The Godfather: Part II</td>\n",
       "      <td>R</td>\n",
       "      <td>Crime</td>\n",
       "      <td>200</td>\n",
       "      <td>[u'Al Pacino', u'Robert De Niro', u'Robert Duv...</td>\n",
       "    </tr>\n",
       "  </tbody>\n",
       "</table>\n",
       "</div>"
      ],
      "text/plain": [
       "   star_rating                     title content_rating  genre  duration  \\\n",
       "0          9.3  The Shawshank Redemption              R  Crime       142   \n",
       "1          9.2             The Godfather              R  Crime       175   \n",
       "2          9.1    The Godfather: Part II              R  Crime       200   \n",
       "\n",
       "                                         actors_list  \n",
       "0  [u'Tim Robbins', u'Morgan Freeman', u'Bob Gunt...  \n",
       "1    [u'Marlon Brando', u'Al Pacino', u'James Caan']  \n",
       "2  [u'Al Pacino', u'Robert De Niro', u'Robert Duv...  "
      ]
     },
     "execution_count": 349,
     "metadata": {},
     "output_type": "execute_result"
    }
   ],
   "source": [
    "df.head(3)"
   ]
  },
  {
   "cell_type": "markdown",
   "metadata": {},
   "source": [
    "We can check its dimensions with ``.shape``:"
   ]
  },
  {
   "cell_type": "code",
   "execution_count": 350,
   "metadata": {},
   "outputs": [
    {
     "data": {
      "text/plain": [
       "(979, 6)"
      ]
     },
     "execution_count": 350,
     "metadata": {},
     "output_type": "execute_result"
    }
   ],
   "source": [
    "df.shape"
   ]
  },
  {
   "cell_type": "markdown",
   "metadata": {},
   "source": [
    "We can reference **columns** as such:"
   ]
  },
  {
   "cell_type": "code",
   "execution_count": 351,
   "metadata": {},
   "outputs": [
    {
     "data": {
      "text/plain": [
       "0      9.3\n",
       "1      9.2\n",
       "2      9.1\n",
       "3      9.0\n",
       "4      8.9\n",
       "      ... \n",
       "974    7.4\n",
       "975    7.4\n",
       "976    7.4\n",
       "977    7.4\n",
       "978    7.4\n",
       "Name: star_rating, Length: 979, dtype: float64"
      ]
     },
     "execution_count": 351,
     "metadata": {},
     "output_type": "execute_result"
    }
   ],
   "source": [
    "df['star_rating']"
   ]
  },
  {
   "cell_type": "markdown",
   "metadata": {},
   "source": [
    "We can access the value in a given cell a few ways. Two common ones are like this:\n",
    "\n",
    "``dataframe[column_name][index]``:"
   ]
  },
  {
   "cell_type": "code",
   "execution_count": 352,
   "metadata": {},
   "outputs": [
    {
     "data": {
      "text/plain": [
       "9.1"
      ]
     },
     "execution_count": 352,
     "metadata": {},
     "output_type": "execute_result"
    }
   ],
   "source": [
    "df[\"star_rating\"][2]"
   ]
  },
  {
   "cell_type": "markdown",
   "metadata": {},
   "source": [
    "We can filter by column values like this:"
   ]
  },
  {
   "cell_type": "code",
   "execution_count": 354,
   "metadata": {},
   "outputs": [
    {
     "data": {
      "text/html": [
       "<div>\n",
       "<style scoped>\n",
       "    .dataframe tbody tr th:only-of-type {\n",
       "        vertical-align: middle;\n",
       "    }\n",
       "\n",
       "    .dataframe tbody tr th {\n",
       "        vertical-align: top;\n",
       "    }\n",
       "\n",
       "    .dataframe thead th {\n",
       "        text-align: right;\n",
       "    }\n",
       "</style>\n",
       "<table border=\"1\" class=\"dataframe\">\n",
       "  <thead>\n",
       "    <tr style=\"text-align: right;\">\n",
       "      <th></th>\n",
       "      <th>star_rating</th>\n",
       "      <th>title</th>\n",
       "      <th>content_rating</th>\n",
       "      <th>genre</th>\n",
       "      <th>duration</th>\n",
       "      <th>actors_list</th>\n",
       "    </tr>\n",
       "  </thead>\n",
       "  <tbody>\n",
       "    <tr>\n",
       "      <th>1</th>\n",
       "      <td>9.2</td>\n",
       "      <td>The Godfather</td>\n",
       "      <td>R</td>\n",
       "      <td>Crime</td>\n",
       "      <td>175</td>\n",
       "      <td>[u'Marlon Brando', u'Al Pacino', u'James Caan']</td>\n",
       "    </tr>\n",
       "    <tr>\n",
       "      <th>2</th>\n",
       "      <td>9.1</td>\n",
       "      <td>The Godfather: Part II</td>\n",
       "      <td>R</td>\n",
       "      <td>Crime</td>\n",
       "      <td>200</td>\n",
       "      <td>[u'Al Pacino', u'Robert De Niro', u'Robert Duv...</td>\n",
       "    </tr>\n",
       "    <tr>\n",
       "      <th>3</th>\n",
       "      <td>9.0</td>\n",
       "      <td>The Dark Knight</td>\n",
       "      <td>PG-13</td>\n",
       "      <td>Action</td>\n",
       "      <td>152</td>\n",
       "      <td>[u'Christian Bale', u'Heath Ledger', u'Aaron E...</td>\n",
       "    </tr>\n",
       "    <tr>\n",
       "      <th>4</th>\n",
       "      <td>8.9</td>\n",
       "      <td>Pulp Fiction</td>\n",
       "      <td>R</td>\n",
       "      <td>Crime</td>\n",
       "      <td>154</td>\n",
       "      <td>[u'John Travolta', u'Uma Thurman', u'Samuel L....</td>\n",
       "    </tr>\n",
       "    <tr>\n",
       "      <th>6</th>\n",
       "      <td>8.9</td>\n",
       "      <td>The Good, the Bad and the Ugly</td>\n",
       "      <td>NOT RATED</td>\n",
       "      <td>Western</td>\n",
       "      <td>161</td>\n",
       "      <td>[u'Clint Eastwood', u'Eli Wallach', u'Lee Van ...</td>\n",
       "    </tr>\n",
       "    <tr>\n",
       "      <th>...</th>\n",
       "      <td>...</td>\n",
       "      <td>...</td>\n",
       "      <td>...</td>\n",
       "      <td>...</td>\n",
       "      <td>...</td>\n",
       "      <td>...</td>\n",
       "    </tr>\n",
       "    <tr>\n",
       "      <th>891</th>\n",
       "      <td>7.5</td>\n",
       "      <td>Harry Potter and the Half-Blood Prince</td>\n",
       "      <td>PG</td>\n",
       "      <td>Adventure</td>\n",
       "      <td>153</td>\n",
       "      <td>[u'Daniel Radcliffe', u'Emma Watson', u'Rupert...</td>\n",
       "    </tr>\n",
       "    <tr>\n",
       "      <th>909</th>\n",
       "      <td>7.5</td>\n",
       "      <td>Harry Potter and the Sorcerer's Stone</td>\n",
       "      <td>PG</td>\n",
       "      <td>Adventure</td>\n",
       "      <td>152</td>\n",
       "      <td>[u'Daniel Radcliffe', u'Rupert Grint', u'Richa...</td>\n",
       "    </tr>\n",
       "    <tr>\n",
       "      <th>941</th>\n",
       "      <td>7.4</td>\n",
       "      <td>A Bridge Too Far</td>\n",
       "      <td>PG</td>\n",
       "      <td>Drama</td>\n",
       "      <td>175</td>\n",
       "      <td>[u'Sean Connery', u\"Ryan O'Neal\", u'Michael Ca...</td>\n",
       "    </tr>\n",
       "    <tr>\n",
       "      <th>955</th>\n",
       "      <td>7.4</td>\n",
       "      <td>Zero Dark Thirty</td>\n",
       "      <td>R</td>\n",
       "      <td>Drama</td>\n",
       "      <td>157</td>\n",
       "      <td>[u'Jessica Chastain', u'Joel Edgerton', u'Chri...</td>\n",
       "    </tr>\n",
       "    <tr>\n",
       "      <th>968</th>\n",
       "      <td>7.4</td>\n",
       "      <td>The English Patient</td>\n",
       "      <td>R</td>\n",
       "      <td>Drama</td>\n",
       "      <td>162</td>\n",
       "      <td>[u'Ralph Fiennes', u'Juliette Binoche', u'Will...</td>\n",
       "    </tr>\n",
       "  </tbody>\n",
       "</table>\n",
       "<p>124 rows × 6 columns</p>\n",
       "</div>"
      ],
      "text/plain": [
       "     star_rating                                   title content_rating  \\\n",
       "1            9.2                           The Godfather              R   \n",
       "2            9.1                  The Godfather: Part II              R   \n",
       "3            9.0                         The Dark Knight          PG-13   \n",
       "4            8.9                            Pulp Fiction              R   \n",
       "6            8.9          The Good, the Bad and the Ugly      NOT RATED   \n",
       "..           ...                                     ...            ...   \n",
       "891          7.5  Harry Potter and the Half-Blood Prince             PG   \n",
       "909          7.5   Harry Potter and the Sorcerer's Stone             PG   \n",
       "941          7.4                        A Bridge Too Far             PG   \n",
       "955          7.4                        Zero Dark Thirty              R   \n",
       "968          7.4                     The English Patient              R   \n",
       "\n",
       "         genre  duration                                        actors_list  \n",
       "1        Crime       175    [u'Marlon Brando', u'Al Pacino', u'James Caan']  \n",
       "2        Crime       200  [u'Al Pacino', u'Robert De Niro', u'Robert Duv...  \n",
       "3       Action       152  [u'Christian Bale', u'Heath Ledger', u'Aaron E...  \n",
       "4        Crime       154  [u'John Travolta', u'Uma Thurman', u'Samuel L....  \n",
       "6      Western       161  [u'Clint Eastwood', u'Eli Wallach', u'Lee Van ...  \n",
       "..         ...       ...                                                ...  \n",
       "891  Adventure       153  [u'Daniel Radcliffe', u'Emma Watson', u'Rupert...  \n",
       "909  Adventure       152  [u'Daniel Radcliffe', u'Rupert Grint', u'Richa...  \n",
       "941      Drama       175  [u'Sean Connery', u\"Ryan O'Neal\", u'Michael Ca...  \n",
       "955      Drama       157  [u'Jessica Chastain', u'Joel Edgerton', u'Chri...  \n",
       "968      Drama       162  [u'Ralph Fiennes', u'Juliette Binoche', u'Will...  \n",
       "\n",
       "[124 rows x 6 columns]"
      ]
     },
     "execution_count": 354,
     "metadata": {},
     "output_type": "execute_result"
    }
   ],
   "source": [
    "df[df['duration'] > 150]"
   ]
  },
  {
   "cell_type": "code",
   "execution_count": 355,
   "metadata": {
    "scrolled": true
   },
   "outputs": [
    {
     "data": {
      "text/html": [
       "<div>\n",
       "<style scoped>\n",
       "    .dataframe tbody tr th:only-of-type {\n",
       "        vertical-align: middle;\n",
       "    }\n",
       "\n",
       "    .dataframe tbody tr th {\n",
       "        vertical-align: top;\n",
       "    }\n",
       "\n",
       "    .dataframe thead th {\n",
       "        text-align: right;\n",
       "    }\n",
       "</style>\n",
       "<table border=\"1\" class=\"dataframe\">\n",
       "  <thead>\n",
       "    <tr style=\"text-align: right;\">\n",
       "      <th></th>\n",
       "      <th>star_rating</th>\n",
       "      <th>title</th>\n",
       "      <th>content_rating</th>\n",
       "      <th>genre</th>\n",
       "      <th>duration</th>\n",
       "      <th>actors_list</th>\n",
       "    </tr>\n",
       "  </thead>\n",
       "  <tbody>\n",
       "    <tr>\n",
       "      <th>297</th>\n",
       "      <td>8.0</td>\n",
       "      <td>Rope</td>\n",
       "      <td>PG</td>\n",
       "      <td>Crime</td>\n",
       "      <td>80</td>\n",
       "      <td>[u'James Stewart', u'John Dall', u'Farley Gran...</td>\n",
       "    </tr>\n",
       "    <tr>\n",
       "      <th>298</th>\n",
       "      <td>8.0</td>\n",
       "      <td>The Graduate</td>\n",
       "      <td>APPROVED</td>\n",
       "      <td>Comedy</td>\n",
       "      <td>106</td>\n",
       "      <td>[u'Dustin Hoffman', u'Anne Bancroft', u'Kathar...</td>\n",
       "    </tr>\n",
       "    <tr>\n",
       "      <th>299</th>\n",
       "      <td>8.0</td>\n",
       "      <td>Jurassic Park</td>\n",
       "      <td>PG-13</td>\n",
       "      <td>Adventure</td>\n",
       "      <td>127</td>\n",
       "      <td>[u'Sam Neill', u'Laura Dern', u'Jeff Goldblum']</td>\n",
       "    </tr>\n",
       "    <tr>\n",
       "      <th>300</th>\n",
       "      <td>8.0</td>\n",
       "      <td>Dogville</td>\n",
       "      <td>R</td>\n",
       "      <td>Crime</td>\n",
       "      <td>178</td>\n",
       "      <td>[u'Nicole Kidman', u'Paul Bettany', u'Lauren B...</td>\n",
       "    </tr>\n",
       "    <tr>\n",
       "      <th>301</th>\n",
       "      <td>8.0</td>\n",
       "      <td>Furious 7</td>\n",
       "      <td>PG-13</td>\n",
       "      <td>Action</td>\n",
       "      <td>137</td>\n",
       "      <td>[u'Vin Diesel', u'Paul Walker', u'Dwayne Johns...</td>\n",
       "    </tr>\n",
       "    <tr>\n",
       "      <th>...</th>\n",
       "      <td>...</td>\n",
       "      <td>...</td>\n",
       "      <td>...</td>\n",
       "      <td>...</td>\n",
       "      <td>...</td>\n",
       "      <td>...</td>\n",
       "    </tr>\n",
       "    <tr>\n",
       "      <th>389</th>\n",
       "      <td>8.0</td>\n",
       "      <td>Freaks</td>\n",
       "      <td>UNRATED</td>\n",
       "      <td>Drama</td>\n",
       "      <td>64</td>\n",
       "      <td>[u'Wallace Ford', u'Leila Hyams', u'Olga Bacla...</td>\n",
       "    </tr>\n",
       "    <tr>\n",
       "      <th>390</th>\n",
       "      <td>8.0</td>\n",
       "      <td>Letters from Iwo Jima</td>\n",
       "      <td>R</td>\n",
       "      <td>Drama</td>\n",
       "      <td>141</td>\n",
       "      <td>[u'Ken Watanabe', u'Kazunari Ninomiya', u'Tsuy...</td>\n",
       "    </tr>\n",
       "    <tr>\n",
       "      <th>391</th>\n",
       "      <td>8.0</td>\n",
       "      <td>Edge of Tomorrow</td>\n",
       "      <td>PG-13</td>\n",
       "      <td>Action</td>\n",
       "      <td>113</td>\n",
       "      <td>[u'Tom Cruise', u'Emily Blunt', u'Bill Paxton']</td>\n",
       "    </tr>\n",
       "    <tr>\n",
       "      <th>392</th>\n",
       "      <td>8.0</td>\n",
       "      <td>Glory</td>\n",
       "      <td>R</td>\n",
       "      <td>Drama</td>\n",
       "      <td>122</td>\n",
       "      <td>[u'Matthew Broderick', u'Denzel Washington', u...</td>\n",
       "    </tr>\n",
       "    <tr>\n",
       "      <th>393</th>\n",
       "      <td>8.0</td>\n",
       "      <td>The African Queen</td>\n",
       "      <td>PG</td>\n",
       "      <td>Adventure</td>\n",
       "      <td>105</td>\n",
       "      <td>[u'Humphrey Bogart', u'Katharine Hepburn', u'R...</td>\n",
       "    </tr>\n",
       "  </tbody>\n",
       "</table>\n",
       "<p>97 rows × 6 columns</p>\n",
       "</div>"
      ],
      "text/plain": [
       "     star_rating                  title content_rating      genre  duration  \\\n",
       "297          8.0                   Rope             PG      Crime        80   \n",
       "298          8.0           The Graduate       APPROVED     Comedy       106   \n",
       "299          8.0          Jurassic Park          PG-13  Adventure       127   \n",
       "300          8.0               Dogville              R      Crime       178   \n",
       "301          8.0              Furious 7          PG-13     Action       137   \n",
       "..           ...                    ...            ...        ...       ...   \n",
       "389          8.0                 Freaks        UNRATED      Drama        64   \n",
       "390          8.0  Letters from Iwo Jima              R      Drama       141   \n",
       "391          8.0       Edge of Tomorrow          PG-13     Action       113   \n",
       "392          8.0                  Glory              R      Drama       122   \n",
       "393          8.0      The African Queen             PG  Adventure       105   \n",
       "\n",
       "                                           actors_list  \n",
       "297  [u'James Stewart', u'John Dall', u'Farley Gran...  \n",
       "298  [u'Dustin Hoffman', u'Anne Bancroft', u'Kathar...  \n",
       "299    [u'Sam Neill', u'Laura Dern', u'Jeff Goldblum']  \n",
       "300  [u'Nicole Kidman', u'Paul Bettany', u'Lauren B...  \n",
       "301  [u'Vin Diesel', u'Paul Walker', u'Dwayne Johns...  \n",
       "..                                                 ...  \n",
       "389  [u'Wallace Ford', u'Leila Hyams', u'Olga Bacla...  \n",
       "390  [u'Ken Watanabe', u'Kazunari Ninomiya', u'Tsuy...  \n",
       "391    [u'Tom Cruise', u'Emily Blunt', u'Bill Paxton']  \n",
       "392  [u'Matthew Broderick', u'Denzel Washington', u...  \n",
       "393  [u'Humphrey Bogart', u'Katharine Hepburn', u'R...  \n",
       "\n",
       "[97 rows x 6 columns]"
      ]
     },
     "execution_count": 355,
     "metadata": {},
     "output_type": "execute_result"
    }
   ],
   "source": [
    "df[df['star_rating']==8]"
   ]
  },
  {
   "cell_type": "markdown",
   "metadata": {},
   "source": [
    "Finally, we can manipulate data to create new columns. This is particularly easy when the columns contain numbers only. For example, we could convert minutes into hours by dividing by 60:"
   ]
  },
  {
   "cell_type": "code",
   "execution_count": 357,
   "metadata": {},
   "outputs": [
    {
     "data": {
      "text/html": [
       "<div>\n",
       "<style scoped>\n",
       "    .dataframe tbody tr th:only-of-type {\n",
       "        vertical-align: middle;\n",
       "    }\n",
       "\n",
       "    .dataframe tbody tr th {\n",
       "        vertical-align: top;\n",
       "    }\n",
       "\n",
       "    .dataframe thead th {\n",
       "        text-align: right;\n",
       "    }\n",
       "</style>\n",
       "<table border=\"1\" class=\"dataframe\">\n",
       "  <thead>\n",
       "    <tr style=\"text-align: right;\">\n",
       "      <th></th>\n",
       "      <th>star_rating</th>\n",
       "      <th>title</th>\n",
       "      <th>content_rating</th>\n",
       "      <th>genre</th>\n",
       "      <th>duration</th>\n",
       "      <th>actors_list</th>\n",
       "      <th>hours</th>\n",
       "    </tr>\n",
       "  </thead>\n",
       "  <tbody>\n",
       "    <tr>\n",
       "      <th>0</th>\n",
       "      <td>9.3</td>\n",
       "      <td>The Shawshank Redemption</td>\n",
       "      <td>R</td>\n",
       "      <td>Crime</td>\n",
       "      <td>142</td>\n",
       "      <td>[u'Tim Robbins', u'Morgan Freeman', u'Bob Gunt...</td>\n",
       "      <td>2.366667</td>\n",
       "    </tr>\n",
       "    <tr>\n",
       "      <th>1</th>\n",
       "      <td>9.2</td>\n",
       "      <td>The Godfather</td>\n",
       "      <td>R</td>\n",
       "      <td>Crime</td>\n",
       "      <td>175</td>\n",
       "      <td>[u'Marlon Brando', u'Al Pacino', u'James Caan']</td>\n",
       "      <td>2.916667</td>\n",
       "    </tr>\n",
       "    <tr>\n",
       "      <th>2</th>\n",
       "      <td>9.1</td>\n",
       "      <td>The Godfather: Part II</td>\n",
       "      <td>R</td>\n",
       "      <td>Crime</td>\n",
       "      <td>200</td>\n",
       "      <td>[u'Al Pacino', u'Robert De Niro', u'Robert Duv...</td>\n",
       "      <td>3.333333</td>\n",
       "    </tr>\n",
       "    <tr>\n",
       "      <th>3</th>\n",
       "      <td>9.0</td>\n",
       "      <td>The Dark Knight</td>\n",
       "      <td>PG-13</td>\n",
       "      <td>Action</td>\n",
       "      <td>152</td>\n",
       "      <td>[u'Christian Bale', u'Heath Ledger', u'Aaron E...</td>\n",
       "      <td>2.533333</td>\n",
       "    </tr>\n",
       "    <tr>\n",
       "      <th>4</th>\n",
       "      <td>8.9</td>\n",
       "      <td>Pulp Fiction</td>\n",
       "      <td>R</td>\n",
       "      <td>Crime</td>\n",
       "      <td>154</td>\n",
       "      <td>[u'John Travolta', u'Uma Thurman', u'Samuel L....</td>\n",
       "      <td>2.566667</td>\n",
       "    </tr>\n",
       "  </tbody>\n",
       "</table>\n",
       "</div>"
      ],
      "text/plain": [
       "   star_rating                     title content_rating   genre  duration  \\\n",
       "0          9.3  The Shawshank Redemption              R   Crime       142   \n",
       "1          9.2             The Godfather              R   Crime       175   \n",
       "2          9.1    The Godfather: Part II              R   Crime       200   \n",
       "3          9.0           The Dark Knight          PG-13  Action       152   \n",
       "4          8.9              Pulp Fiction              R   Crime       154   \n",
       "\n",
       "                                         actors_list     hours  \n",
       "0  [u'Tim Robbins', u'Morgan Freeman', u'Bob Gunt...  2.366667  \n",
       "1    [u'Marlon Brando', u'Al Pacino', u'James Caan']  2.916667  \n",
       "2  [u'Al Pacino', u'Robert De Niro', u'Robert Duv...  3.333333  \n",
       "3  [u'Christian Bale', u'Heath Ledger', u'Aaron E...  2.533333  \n",
       "4  [u'John Travolta', u'Uma Thurman', u'Samuel L....  2.566667  "
      ]
     },
     "execution_count": 357,
     "metadata": {},
     "output_type": "execute_result"
    }
   ],
   "source": [
    "df['hours'] = df['duration'] / 60\n",
    "\n",
    "df.head()"
   ]
  },
  {
   "cell_type": "markdown",
   "metadata": {},
   "source": [
    "## Part 2: Accessing and analyzing Twitter data via the Twitter API"
   ]
  },
  {
   "cell_type": "markdown",
   "metadata": {},
   "source": [
    "Many websites and social media platforms have \"application programming interfaces\" (APIs) which allow you to access their data in formats which are useful for coding, such as JSON or CSV. Many platforms, including Twitter, will release their own Python libraries (and/or Javascript, R, etc.) designed to help you easily access the API with code scripts. We will be using Tweepy, which Twitter released for accessing their API via Python,\n",
    "\n",
    "Most APIs will require you to create \"access keys,\" \"authentication tokens,\" or something similar in order to use them. These can essentially be thought of as usernames and passwords. When you \"ask\" the API for data, you include these keys/tokens/passwords in the data request so that they can keep track of who is requesting what data, and to prevent unauthorized users from requesting data on your behalf.\n",
    "\n",
    "As a first step, we will all need to acquire our own API keys. Instructions to do so are below.\n",
    "\n",
    "1. If you don't have a Twitter account, you will need to create one. Since this is for demo purposes only, feel free to create a \"throwaway\" style account. If you already have a Twitter account, make sure you are logged in.\n",
    "2. Click \"More\" on the left, and go to Account Information. Click \"Phone\" and add your phone number if you haven't already. Twitter requires a registered phone number to get API keys.\n",
    "\n",
    "Now we need to create a developer account associated with the Twitter account. Follow steps 1 and 2 from this Twitter page (summarized below).\n",
    "\n",
    "https://developer.twitter.com/en/docs/tutorials/step-by-step-guide-to-making-your-first-request-to-the-twitter-api-v2\n",
    "\n",
    "3. Go to https://developer.twitter.com/en/docs/twitter-api/getting-started/about-twitter-api\n",
    "4. Scroll down to \"Twitter API access levels and versions\" section\n",
    "5. In the table, click \"Sign up\" underneath \"Essential\".\n",
    "6. Follow instructions to create your developer account.\n",
    "7. Once you create your app, copy your bearer token into this notebook as a string variable\n",
    "\n",
    "\n"
   ]
  },
  {
   "cell_type": "code",
   "execution_count": 419,
   "metadata": {},
   "outputs": [],
   "source": [
    "BEARER_TOKEN = \"<YOUR_TOKEN_HERE>\""
   ]
  },
  {
   "cell_type": "markdown",
   "metadata": {},
   "source": [
    "**NOTE: Storing access keys inside a notebook like this is BAD PRACTICE!** In the real world, you would always want to store these somewhere outside of your code (e.g., in a .txt file), and then read them into your coding environment. That way you can share your code without also sharing your access keys. "
   ]
  },
  {
   "cell_type": "markdown",
   "metadata": {},
   "source": [
    "Now that we've assigned a variable with our bearer token, we can set up a Tweepy client and configure it so that it sends our bearer token with each request.\n",
    "\n",
    "First, we have to import ``tweepy``:"
   ]
  },
  {
   "cell_type": "code",
   "execution_count": 359,
   "metadata": {},
   "outputs": [],
   "source": [
    "import tweepy"
   ]
  },
  {
   "cell_type": "markdown",
   "metadata": {},
   "source": [
    "Then we set up a client to manage our bearer token: "
   ]
  },
  {
   "cell_type": "code",
   "execution_count": 360,
   "metadata": {},
   "outputs": [],
   "source": [
    "client = tweepy.Client(bearer_token=BEARER_TOKEN)"
   ]
  },
  {
   "cell_type": "markdown",
   "metadata": {},
   "source": [
    "Now we can start getting Twitter data! The code below is complicated so I've already typed it out, but the key for now is to understand the ``my_query`` variable. This is a specially formatted string where we tell the API what sort of tweest we want. There are many different ways to do this.\n",
    "\n",
    "My query is doing the following:\n",
    "\n",
    "- Tweets containing the keyword \"new york\"\n",
    "- Filtering out retweets\n",
    "- English only\n",
    "- Verified accounts only\n",
    "\n",
    "The query syntax can be used to make very complicated requests; more info about building queries can be found here: https://developer.twitter.com/en/docs/twitter-api/tweets/search/integrate/build-a-query"
   ]
  },
  {
   "cell_type": "markdown",
   "metadata": {},
   "source": [
    "The code below is a little complicated, and it's ok if you don't fully understand how it works. The Twitter API only allows you to get 100 tweets per request with the ``search_recent_tweets()`` function, but 100 tweets isn't very many. So we're going to combine that with the ``Paginator`` to easily make multiple of these requests. The total number of tweets this function will return is ``max_results * limit``:"
   ]
  },
  {
   "cell_type": "code",
   "execution_count": 361,
   "metadata": {},
   "outputs": [],
   "source": [
    "# Replace with your own search query\n",
    "\n",
    "my_query = 'new york -is:retweet lang:en is:verified'\n",
    "\n",
    "tweets = tweepy.Paginator(client.search_recent_tweets, \n",
    "                              query=my_query, # here's where we pass our query string above\n",
    "                              tweet_fields=['created_at', 'author_id', \"possibly_sensitive\", \"public_metrics\"], # here we tell the API which data fields we want\n",
    "                              max_results=100, # the number of tweets per request (max 100)\n",
    "                              limit=100).flatten() # 100 * 100 = 10,000 tweets returned\n",
    "\n",
    "\n",
    "df = pd.DataFrame(tweets)"
   ]
  },
  {
   "cell_type": "markdown",
   "metadata": {},
   "source": [
    "Let's take a look!"
   ]
  },
  {
   "cell_type": "code",
   "execution_count": 362,
   "metadata": {},
   "outputs": [
    {
     "data": {
      "text/html": [
       "<div>\n",
       "<style scoped>\n",
       "    .dataframe tbody tr th:only-of-type {\n",
       "        vertical-align: middle;\n",
       "    }\n",
       "\n",
       "    .dataframe tbody tr th {\n",
       "        vertical-align: top;\n",
       "    }\n",
       "\n",
       "    .dataframe thead th {\n",
       "        text-align: right;\n",
       "    }\n",
       "</style>\n",
       "<table border=\"1\" class=\"dataframe\">\n",
       "  <thead>\n",
       "    <tr style=\"text-align: right;\">\n",
       "      <th></th>\n",
       "      <th>author_id</th>\n",
       "      <th>created_at</th>\n",
       "      <th>id</th>\n",
       "      <th>possibly_sensitive</th>\n",
       "      <th>public_metrics</th>\n",
       "      <th>text</th>\n",
       "      <th>withheld</th>\n",
       "    </tr>\n",
       "  </thead>\n",
       "  <tbody>\n",
       "    <tr>\n",
       "      <th>6749</th>\n",
       "      <td>32432308</td>\n",
       "      <td>2022-09-24 15:00:00+00:00</td>\n",
       "      <td>1573688709798502400</td>\n",
       "      <td>False</td>\n",
       "      <td>{'retweet_count': 0, 'reply_count': 1, 'like_c...</td>\n",
       "      <td>Martha Stewart's New York-inspired restaurant ...</td>\n",
       "      <td>NaN</td>\n",
       "    </tr>\n",
       "    <tr>\n",
       "      <th>2891</th>\n",
       "      <td>56934476</td>\n",
       "      <td>2022-09-26 23:10:34+00:00</td>\n",
       "      <td>1574536940036452352</td>\n",
       "      <td>False</td>\n",
       "      <td>{'retweet_count': 1, 'reply_count': 1, 'like_c...</td>\n",
       "      <td>“The New York Giants are serious!”\\n\\n@MJD on ...</td>\n",
       "      <td>NaN</td>\n",
       "    </tr>\n",
       "    <tr>\n",
       "      <th>332</th>\n",
       "      <td>82296803</td>\n",
       "      <td>2022-09-28 12:03:34+00:00</td>\n",
       "      <td>1575093859314450432</td>\n",
       "      <td>False</td>\n",
       "      <td>{'retweet_count': 0, 'reply_count': 0, 'like_c...</td>\n",
       "      <td>As we celebrate 46 years of informing and empo...</td>\n",
       "      <td>NaN</td>\n",
       "    </tr>\n",
       "    <tr>\n",
       "      <th>6298</th>\n",
       "      <td>591211894</td>\n",
       "      <td>2022-09-24 19:56:02+00:00</td>\n",
       "      <td>1573763207164006402</td>\n",
       "      <td>False</td>\n",
       "      <td>{'retweet_count': 26, 'reply_count': 1, 'like_...</td>\n",
       "      <td>Was good to meet Foreign Minister of #Azerbaij...</td>\n",
       "      <td>NaN</td>\n",
       "    </tr>\n",
       "    <tr>\n",
       "      <th>3290</th>\n",
       "      <td>15145138</td>\n",
       "      <td>2022-09-26 19:45:00+00:00</td>\n",
       "      <td>1574485206173523968</td>\n",
       "      <td>False</td>\n",
       "      <td>{'retweet_count': 0, 'reply_count': 0, 'like_c...</td>\n",
       "      <td>A COVID-19 vaccine requirement could force nea...</td>\n",
       "      <td>NaN</td>\n",
       "    </tr>\n",
       "  </tbody>\n",
       "</table>\n",
       "</div>"
      ],
      "text/plain": [
       "      author_id                created_at                   id  \\\n",
       "6749   32432308 2022-09-24 15:00:00+00:00  1573688709798502400   \n",
       "2891   56934476 2022-09-26 23:10:34+00:00  1574536940036452352   \n",
       "332    82296803 2022-09-28 12:03:34+00:00  1575093859314450432   \n",
       "6298  591211894 2022-09-24 19:56:02+00:00  1573763207164006402   \n",
       "3290   15145138 2022-09-26 19:45:00+00:00  1574485206173523968   \n",
       "\n",
       "      possibly_sensitive                                     public_metrics  \\\n",
       "6749               False  {'retweet_count': 0, 'reply_count': 1, 'like_c...   \n",
       "2891               False  {'retweet_count': 1, 'reply_count': 1, 'like_c...   \n",
       "332                False  {'retweet_count': 0, 'reply_count': 0, 'like_c...   \n",
       "6298               False  {'retweet_count': 26, 'reply_count': 1, 'like_...   \n",
       "3290               False  {'retweet_count': 0, 'reply_count': 0, 'like_c...   \n",
       "\n",
       "                                                   text withheld  \n",
       "6749  Martha Stewart's New York-inspired restaurant ...      NaN  \n",
       "2891  “The New York Giants are serious!”\\n\\n@MJD on ...      NaN  \n",
       "332   As we celebrate 46 years of informing and empo...      NaN  \n",
       "6298  Was good to meet Foreign Minister of #Azerbaij...      NaN  \n",
       "3290  A COVID-19 vaccine requirement could force nea...      NaN  "
      ]
     },
     "execution_count": 362,
     "metadata": {},
     "output_type": "execute_result"
    }
   ],
   "source": [
    "df.sample(5) # sample works similar to .head(), but takes N random rows instead of the first N rows"
   ]
  },
  {
   "cell_type": "markdown",
   "metadata": {},
   "source": [
    "First, let's filter out sensitive content:"
   ]
  },
  {
   "cell_type": "code",
   "execution_count": 363,
   "metadata": {},
   "outputs": [],
   "source": [
    "df = df[df[\"possibly_sensitive\"]==False]"
   ]
  },
  {
   "cell_type": "markdown",
   "metadata": {},
   "source": [
    "You'll notice that rather than usernames, the API returned ``author_id`` as a number corresponding to a username. We can lookup the username with ``client.get_user(id=author_id)``:"
   ]
  },
  {
   "cell_type": "code",
   "execution_count": 364,
   "metadata": {},
   "outputs": [
    {
     "data": {
      "text/plain": [
       "Response(data=<User id=2828580836 name=The Mane Land username=TheManeLand>, includes={}, errors=[], meta={})"
      ]
     },
     "execution_count": 364,
     "metadata": {},
     "output_type": "execute_result"
    }
   ],
   "source": [
    "author_id = df['author_id'][0]\n",
    "\n",
    "client.get_user(id=author_id)"
   ]
  },
  {
   "cell_type": "markdown",
   "metadata": {},
   "source": [
    "Take a look at the ``public_metrics`` column. You'll notice that each value is actually an entire dictionary, containing the number of retweets, likes, quotes, and replies.. "
   ]
  },
  {
   "cell_type": "code",
   "execution_count": 365,
   "metadata": {},
   "outputs": [
    {
     "data": {
      "text/plain": [
       "{'retweet_count': 0, 'reply_count': 0, 'like_count': 0, 'quote_count': 0}"
      ]
     },
     "execution_count": 365,
     "metadata": {},
     "output_type": "execute_result"
    }
   ],
   "source": [
    "df['public_metrics'][0]"
   ]
  },
  {
   "cell_type": "markdown",
   "metadata": {},
   "source": [
    "What we're going to do here will combine our knowledge of lists, for loops, dictionaries and dataframes. We're going to iterate over each entry in ``df[\"public_metrics\"]``, extract the values for retweets and likes, add those values to respective lists, and then add those lists to our dataframe as new columns.\n",
    "\n",
    "*Note: There are faster and more 'pythonic' ways of doing this, but this is fine for now :)*"
   ]
  },
  {
   "cell_type": "code",
   "execution_count": 366,
   "metadata": {},
   "outputs": [],
   "source": [
    "likes = []\n",
    "rts = []\n",
    "\n",
    "for i in df['public_metrics']:\n",
    "    \n",
    "    like = i['like_count']\n",
    "    rt = i['retweet_count']\n",
    "    \n",
    "    likes.append(like)\n",
    "    rts.append(rt)\n",
    "    \n",
    "df['rts'] = rts\n",
    "df['likes'] = likes    \n",
    "    \n",
    "    "
   ]
  },
  {
   "cell_type": "code",
   "execution_count": 367,
   "metadata": {},
   "outputs": [
    {
     "data": {
      "text/html": [
       "<div>\n",
       "<style scoped>\n",
       "    .dataframe tbody tr th:only-of-type {\n",
       "        vertical-align: middle;\n",
       "    }\n",
       "\n",
       "    .dataframe tbody tr th {\n",
       "        vertical-align: top;\n",
       "    }\n",
       "\n",
       "    .dataframe thead th {\n",
       "        text-align: right;\n",
       "    }\n",
       "</style>\n",
       "<table border=\"1\" class=\"dataframe\">\n",
       "  <thead>\n",
       "    <tr style=\"text-align: right;\">\n",
       "      <th></th>\n",
       "      <th>author_id</th>\n",
       "      <th>created_at</th>\n",
       "      <th>id</th>\n",
       "      <th>possibly_sensitive</th>\n",
       "      <th>public_metrics</th>\n",
       "      <th>text</th>\n",
       "      <th>withheld</th>\n",
       "      <th>rts</th>\n",
       "      <th>likes</th>\n",
       "    </tr>\n",
       "  </thead>\n",
       "  <tbody>\n",
       "    <tr>\n",
       "      <th>0</th>\n",
       "      <td>2828580836</td>\n",
       "      <td>2022-09-28 15:01:09+00:00</td>\n",
       "      <td>1575138550911221761</td>\n",
       "      <td>False</td>\n",
       "      <td>{'retweet_count': 0, 'reply_count': 0, 'like_c...</td>\n",
       "      <td>PawedCast! No. 313 features two Orlando Pride ...</td>\n",
       "      <td>NaN</td>\n",
       "      <td>0</td>\n",
       "      <td>0</td>\n",
       "    </tr>\n",
       "    <tr>\n",
       "      <th>1</th>\n",
       "      <td>759251</td>\n",
       "      <td>2022-09-28 15:00:16+00:00</td>\n",
       "      <td>1575138327849836547</td>\n",
       "      <td>False</td>\n",
       "      <td>{'retweet_count': 2, 'reply_count': 2, 'like_c...</td>\n",
       "      <td>Then-President Donald Trump nearly fired his d...</td>\n",
       "      <td>NaN</td>\n",
       "      <td>2</td>\n",
       "      <td>11</td>\n",
       "    </tr>\n",
       "    <tr>\n",
       "      <th>2</th>\n",
       "      <td>982399078645600256</td>\n",
       "      <td>2022-09-28 15:00:11+00:00</td>\n",
       "      <td>1575138306647638016</td>\n",
       "      <td>False</td>\n",
       "      <td>{'retweet_count': 0, 'reply_count': 0, 'like_c...</td>\n",
       "      <td>What started off as teasing from his grandkids...</td>\n",
       "      <td>NaN</td>\n",
       "      <td>0</td>\n",
       "      <td>0</td>\n",
       "    </tr>\n",
       "    <tr>\n",
       "      <th>3</th>\n",
       "      <td>3072774610</td>\n",
       "      <td>2022-09-28 15:00:10+00:00</td>\n",
       "      <td>1575138301111042053</td>\n",
       "      <td>False</td>\n",
       "      <td>{'retweet_count': 0, 'reply_count': 0, 'like_c...</td>\n",
       "      <td>Celebrate the season with your best Upstate Ne...</td>\n",
       "      <td>NaN</td>\n",
       "      <td>0</td>\n",
       "      <td>0</td>\n",
       "    </tr>\n",
       "    <tr>\n",
       "      <th>4</th>\n",
       "      <td>15688704</td>\n",
       "      <td>2022-09-28 15:00:04+00:00</td>\n",
       "      <td>1575138276419272706</td>\n",
       "      <td>False</td>\n",
       "      <td>{'retweet_count': 0, 'reply_count': 0, 'like_c...</td>\n",
       "      <td>What started off as teasing from his grandkids...</td>\n",
       "      <td>NaN</td>\n",
       "      <td>0</td>\n",
       "      <td>0</td>\n",
       "    </tr>\n",
       "  </tbody>\n",
       "</table>\n",
       "</div>"
      ],
      "text/plain": [
       "            author_id                created_at                   id  \\\n",
       "0          2828580836 2022-09-28 15:01:09+00:00  1575138550911221761   \n",
       "1              759251 2022-09-28 15:00:16+00:00  1575138327849836547   \n",
       "2  982399078645600256 2022-09-28 15:00:11+00:00  1575138306647638016   \n",
       "3          3072774610 2022-09-28 15:00:10+00:00  1575138301111042053   \n",
       "4            15688704 2022-09-28 15:00:04+00:00  1575138276419272706   \n",
       "\n",
       "   possibly_sensitive                                     public_metrics  \\\n",
       "0               False  {'retweet_count': 0, 'reply_count': 0, 'like_c...   \n",
       "1               False  {'retweet_count': 2, 'reply_count': 2, 'like_c...   \n",
       "2               False  {'retweet_count': 0, 'reply_count': 0, 'like_c...   \n",
       "3               False  {'retweet_count': 0, 'reply_count': 0, 'like_c...   \n",
       "4               False  {'retweet_count': 0, 'reply_count': 0, 'like_c...   \n",
       "\n",
       "                                                text withheld  rts  likes  \n",
       "0  PawedCast! No. 313 features two Orlando Pride ...      NaN    0      0  \n",
       "1  Then-President Donald Trump nearly fired his d...      NaN    2     11  \n",
       "2  What started off as teasing from his grandkids...      NaN    0      0  \n",
       "3  Celebrate the season with your best Upstate Ne...      NaN    0      0  \n",
       "4  What started off as teasing from his grandkids...      NaN    0      0  "
      ]
     },
     "execution_count": 367,
     "metadata": {},
     "output_type": "execute_result"
    }
   ],
   "source": [
    "df.head()"
   ]
  },
  {
   "cell_type": "markdown",
   "metadata": {},
   "source": [
    "The top rows have a lot of zeros for likes/retweets, since they're the most recent. Let's sort the whole dataframe by retweets with the ``.sort_values()`` method:"
   ]
  },
  {
   "cell_type": "code",
   "execution_count": 368,
   "metadata": {},
   "outputs": [
    {
     "data": {
      "text/html": [
       "<div>\n",
       "<style scoped>\n",
       "    .dataframe tbody tr th:only-of-type {\n",
       "        vertical-align: middle;\n",
       "    }\n",
       "\n",
       "    .dataframe tbody tr th {\n",
       "        vertical-align: top;\n",
       "    }\n",
       "\n",
       "    .dataframe thead th {\n",
       "        text-align: right;\n",
       "    }\n",
       "</style>\n",
       "<table border=\"1\" class=\"dataframe\">\n",
       "  <thead>\n",
       "    <tr style=\"text-align: right;\">\n",
       "      <th></th>\n",
       "      <th>author_id</th>\n",
       "      <th>created_at</th>\n",
       "      <th>id</th>\n",
       "      <th>possibly_sensitive</th>\n",
       "      <th>public_metrics</th>\n",
       "      <th>text</th>\n",
       "      <th>withheld</th>\n",
       "      <th>rts</th>\n",
       "      <th>likes</th>\n",
       "    </tr>\n",
       "  </thead>\n",
       "  <tbody>\n",
       "    <tr>\n",
       "      <th>4861</th>\n",
       "      <td>27493883</td>\n",
       "      <td>2022-09-25 22:33:31+00:00</td>\n",
       "      <td>1574165228828463107</td>\n",
       "      <td>False</td>\n",
       "      <td>{'retweet_count': 12322, 'reply_count': 1726, ...</td>\n",
       "      <td>BREAKING: Documents seized by the FBI at Mar-a...</td>\n",
       "      <td>NaN</td>\n",
       "      <td>12322</td>\n",
       "      <td>64189</td>\n",
       "    </tr>\n",
       "    <tr>\n",
       "      <th>5552</th>\n",
       "      <td>1001128062</td>\n",
       "      <td>2022-09-25 13:50:20+00:00</td>\n",
       "      <td>1574033565700202500</td>\n",
       "      <td>False</td>\n",
       "      <td>{'retweet_count': 7358, 'reply_count': 26, 'li...</td>\n",
       "      <td>How tone deaf and insensitive can you be to po...</td>\n",
       "      <td>NaN</td>\n",
       "      <td>7358</td>\n",
       "      <td>30009</td>\n",
       "    </tr>\n",
       "    <tr>\n",
       "      <th>6495</th>\n",
       "      <td>1124022135335325696</td>\n",
       "      <td>2022-09-24 17:51:45+00:00</td>\n",
       "      <td>1573731929165533184</td>\n",
       "      <td>False</td>\n",
       "      <td>{'retweet_count': 6424, 'reply_count': 1063, '...</td>\n",
       "      <td>Not a single Indian media cover my news of att...</td>\n",
       "      <td>NaN</td>\n",
       "      <td>6424</td>\n",
       "      <td>29724</td>\n",
       "    </tr>\n",
       "    <tr>\n",
       "      <th>6990</th>\n",
       "      <td>18584875</td>\n",
       "      <td>2022-09-24 11:53:10+00:00</td>\n",
       "      <td>1573641689784270851</td>\n",
       "      <td>False</td>\n",
       "      <td>{'retweet_count': 6401, 'reply_count': 953, 'l...</td>\n",
       "      <td>A New York judge just ruled that the vaccine m...</td>\n",
       "      <td>NaN</td>\n",
       "      <td>6401</td>\n",
       "      <td>41049</td>\n",
       "    </tr>\n",
       "    <tr>\n",
       "      <th>1879</th>\n",
       "      <td>935142655213703168</td>\n",
       "      <td>2022-09-27 15:27:08+00:00</td>\n",
       "      <td>1574782701931929600</td>\n",
       "      <td>False</td>\n",
       "      <td>{'retweet_count': 4195, 'reply_count': 614, 'l...</td>\n",
       "      <td>Today's Business edition of The New York Times...</td>\n",
       "      <td>NaN</td>\n",
       "      <td>4195</td>\n",
       "      <td>18493</td>\n",
       "    </tr>\n",
       "  </tbody>\n",
       "</table>\n",
       "</div>"
      ],
      "text/plain": [
       "                author_id                created_at                   id  \\\n",
       "4861             27493883 2022-09-25 22:33:31+00:00  1574165228828463107   \n",
       "5552           1001128062 2022-09-25 13:50:20+00:00  1574033565700202500   \n",
       "6495  1124022135335325696 2022-09-24 17:51:45+00:00  1573731929165533184   \n",
       "6990             18584875 2022-09-24 11:53:10+00:00  1573641689784270851   \n",
       "1879   935142655213703168 2022-09-27 15:27:08+00:00  1574782701931929600   \n",
       "\n",
       "      possibly_sensitive                                     public_metrics  \\\n",
       "4861               False  {'retweet_count': 12322, 'reply_count': 1726, ...   \n",
       "5552               False  {'retweet_count': 7358, 'reply_count': 26, 'li...   \n",
       "6495               False  {'retweet_count': 6424, 'reply_count': 1063, '...   \n",
       "6990               False  {'retweet_count': 6401, 'reply_count': 953, 'l...   \n",
       "1879               False  {'retweet_count': 4195, 'reply_count': 614, 'l...   \n",
       "\n",
       "                                                   text withheld    rts  likes  \n",
       "4861  BREAKING: Documents seized by the FBI at Mar-a...      NaN  12322  64189  \n",
       "5552  How tone deaf and insensitive can you be to po...      NaN   7358  30009  \n",
       "6495  Not a single Indian media cover my news of att...      NaN   6424  29724  \n",
       "6990  A New York judge just ruled that the vaccine m...      NaN   6401  41049  \n",
       "1879  Today's Business edition of The New York Times...      NaN   4195  18493  "
      ]
     },
     "execution_count": 368,
     "metadata": {},
     "output_type": "execute_result"
    }
   ],
   "source": [
    "df = df.sort_values(by=\"rts\",ascending=False) \n",
    "df.head()"
   ]
  },
  {
   "cell_type": "markdown",
   "metadata": {},
   "source": [
    "### Plotting"
   ]
  },
  {
   "cell_type": "markdown",
   "metadata": {},
   "source": [
    "Now that we have some data, we can start to produce basic visualizations of its structure. It's often good to look at your data with plots to get a sense of its structure before going into more complicated data representations such as regression models.\n",
    "\n",
    "#### Univariate plots\n",
    "\n",
    "When working with social media datasets, you'll often find that users have very unequal rates of participation, with some almost never commenting/posting/liking/etc., and some doing so very often. Looking at the **distribution** of participation rates is a common first step in analyzing online user behavior.\n",
    "\n",
    "Let's start by visualizating the distribution of tweets per account in our data. To do this, we will produce a **histogram**, which is an extremely common type of plot for visualizing **univariate** (i.e., single variable) distributions. Since we are only looking at the distribution of a single variable---tweets per author---a histogram is a good choice.\n",
    "\n",
    "In order to plot this, we'll need a list of every unique author in the dataset, and the number of times they appear. Fortunately, ``DataFrames`` have a built-in method for doing this, ``.value_counts()``:"
   ]
  },
  {
   "cell_type": "code",
   "execution_count": 369,
   "metadata": {},
   "outputs": [
    {
     "data": {
      "text/plain": [
       "9763482                115\n",
       "4889505434              91\n",
       "16715398                47\n",
       "8862532                 40\n",
       "18063523                35\n",
       "                      ... \n",
       "438152067                1\n",
       "591973307                1\n",
       "1023581543808286726      1\n",
       "57405911                 1\n",
       "2828580836               1\n",
       "Name: author_id, Length: 4996, dtype: int64"
      ]
     },
     "execution_count": 369,
     "metadata": {},
     "output_type": "execute_result"
    }
   ],
   "source": [
    "author_counts = df[\"author_id\"].value_counts()\n",
    "\n",
    "author_counts"
   ]
  },
  {
   "cell_type": "code",
   "execution_count": 372,
   "metadata": {},
   "outputs": [
    {
     "data": {
      "text/plain": [
       "Response(data=<User id=4889505434 name=TheGiantsWire username=TheGiantsWire>, includes={}, errors=[], meta={})"
      ]
     },
     "execution_count": 372,
     "metadata": {},
     "output_type": "execute_result"
    }
   ],
   "source": [
    "client.get_user(id=4889505434)"
   ]
  },
  {
   "cell_type": "markdown",
   "metadata": {},
   "source": [
    "Those values on the right-hand side are the values we want to plot. To do so, let's first import our plotting library:"
   ]
  },
  {
   "cell_type": "code",
   "execution_count": 373,
   "metadata": {},
   "outputs": [],
   "source": [
    "import matplotlib.pyplot as plt"
   ]
  },
  {
   "cell_type": "markdown",
   "metadata": {},
   "source": [
    "Now we can plot! Here's the code for plotting a histogram.\n",
    "\n",
    "We're going to start each plotting cell with ``plt.figure(figsize=(10,10)`` to set the size of the plot (the default size is really small), and end every plotting sell with ``plt.show()`` to show the plot. What goes in between will determine the type of plot and the data plotted, along with settings such as axis labels, titles, aesthetic options, etc.\n",
    "\n",
    "*Note: a full list of colors for ``plt`` can be found here: https://matplotlib.org/stable/gallery/color/named_colors.html*"
   ]
  },
  {
   "cell_type": "code",
   "execution_count": 374,
   "metadata": {},
   "outputs": [
    {
     "data": {
      "image/png": "[encoded data removed]",
      "text/plain": [
       "<Figure size 720x720 with 1 Axes>"
      ]
     },
     "metadata": {
      "needs_background": "light"
     },
     "output_type": "display_data"
    }
   ],
   "source": [
    "plt.figure(figsize=(10,10))\n",
    "\n",
    "plt.hist(author_counts,\n",
    "         color=\"grey\",\n",
    "         bins = 50)\n",
    "\n",
    "plt.yscale(\"log\")\n",
    "\n",
    "plt.xlabel(\"Number of tweets\")\n",
    "plt.ylabel(\"Number of accounts\")\n",
    "plt.title(\"Distribution of tweets per user\")\n",
    "\n",
    "plt.show()"
   ]
  },
  {
   "cell_type": "markdown",
   "metadata": {},
   "source": [
    "This type of long-tailed distribution is very common in social media datasets. Generally, a relatively small number of accounts (the \"long tail\") that participate very frequently, and a very large number of accounts that participate very little. In fact, it would be surprising to find that a social media dataset *didn't* show this type of distribution.\n",
    "\n",
    "Another, non-visual way to look at the distribution of a single variable in your data is to use ``.describe()``:\n"
   ]
  },
  {
   "cell_type": "code",
   "execution_count": 375,
   "metadata": {},
   "outputs": [
    {
     "data": {
      "text/plain": [
       "count     9960.000000\n",
       "mean        22.843273\n",
       "std        216.353130\n",
       "min          0.000000\n",
       "25%          0.000000\n",
       "50%          1.000000\n",
       "75%          5.000000\n",
       "max      12322.000000\n",
       "Name: rts, dtype: float64"
      ]
     },
     "execution_count": 375,
     "metadata": {},
     "output_type": "execute_result"
    }
   ],
   "source": [
    "df['rts'].describe()"
   ]
  },
  {
   "cell_type": "markdown",
   "metadata": {},
   "source": [
    "#### Bivariate plots\n",
    "\n",
    "What if we wanted to plot the relationship of one variable to another in our dataset? A common way to do this would be to use a scatterplot. The code will be pretty similar, except instead of plotting the output of a ``.value_counts()``, we're going to plot two columns of data."
   ]
  },
  {
   "cell_type": "code",
   "execution_count": 388,
   "metadata": {},
   "outputs": [
    {
     "data": {
      "image/png": "[encoded data removed]",
      "text/plain": [
       "<Figure size 720x720 with 1 Axes>"
      ]
     },
     "metadata": {
      "needs_background": "light"
     },
     "output_type": "display_data"
    }
   ],
   "source": [
    "plt.figure(figsize=(10,10))\n",
    "\n",
    "x = df['likes']\n",
    "y = df['rts']\n",
    "\n",
    "plt.scatter(x,y, color = 'black', marker = 'x', alpha = 0.5)\n",
    "\n",
    "plt.xscale(\"log\")\n",
    "plt.yscale(\"log\")\n",
    "\n",
    "plt.title(\"Scatterplot of likes to retweets\")\n",
    "\n",
    "plt.xlabel('likes')\n",
    "plt.ylabel('retweets')\n",
    "\n",
    "plt.show()"
   ]
  },
  {
   "cell_type": "markdown",
   "metadata": {},
   "source": [
    "As you might expect, the above plot shows a strong, relatively linear relationship between retweets and likes. Tweets that get a lot of one are likely to have a lot of the other as well. "
   ]
  },
  {
   "cell_type": "markdown",
   "metadata": {},
   "source": [
    "Finally, what if we wanted to look at the temporal distribution of tweets in our data. Do people tweet more at certain times of day? We can look at the ``created_at`` field to see when a tweet was posted. This is in a Python format called a ``Timestamp``, which makes working with time data very easy."
   ]
  },
  {
   "cell_type": "code",
   "execution_count": 396,
   "metadata": {},
   "outputs": [
    {
     "data": {
      "text/plain": [
       "15"
      ]
     },
     "execution_count": 396,
     "metadata": {},
     "output_type": "execute_result"
    }
   ],
   "source": [
    "t = df['created_at'][0]\n",
    "\n",
    "t.hour"
   ]
  },
  {
   "cell_type": "markdown",
   "metadata": {},
   "source": [
    "Let's pull out the hour of each tweet and create a separate column:"
   ]
  },
  {
   "cell_type": "code",
   "execution_count": 397,
   "metadata": {},
   "outputs": [],
   "source": [
    "hours = []\n",
    "\n",
    "for i in df['created_at']:\n",
    "    \n",
    "    hour = i.hour\n",
    "    hours.append(hour)\n",
    "    \n",
    "df['hour'] = hours"
   ]
  },
  {
   "cell_type": "code",
   "execution_count": 401,
   "metadata": {},
   "outputs": [],
   "source": [
    "hours_counts = df['hour'].value_counts()\n",
    "hours_counts = hours_counts.sort_index()"
   ]
  },
  {
   "cell_type": "code",
   "execution_count": 403,
   "metadata": {},
   "outputs": [
    {
     "data": {
      "image/png": "[encoded data removed]",
      "text/plain": [
       "<Figure size 720x720 with 1 Axes>"
      ]
     },
     "metadata": {
      "needs_background": "light"
     },
     "output_type": "display_data"
    }
   ],
   "source": [
    "plt.figure(figsize=(10,10))\n",
    "\n",
    "plt.plot(hours_counts, color = 'red', ls = '--')\n",
    "\n",
    "\n",
    "plt.title(\"Frequency of tweets throughout the day\")\n",
    "\n",
    "plt.xlabel('hour')\n",
    "plt.ylabel('tweets')\n",
    "\n",
    "plt.show()"
   ]
  },
  {
   "cell_type": "markdown",
   "metadata": {},
   "source": [
    "## Part 2b: Basic text analysis"
   ]
  },
  {
   "cell_type": "markdown",
   "metadata": {},
   "source": [
    "Finally, we can explore the text data. Unlike counts of tweets or ratios of likes to retweets, text data is pretty \"unstructured.\" It takes more effort to turn text into something we can plot or visualize than other sorts of data. Working with unstructured data is often referred to as \"natural language processing,\" or NLP. It is a massive field at the intersection of data science, computer science, and linguistics. We're just scratching the surface here.\n",
    "\n",
    "Fortunately, there are a lot of amazing libraries for text analysis (and other machine learning tasks). We're going to be using ``spacy``, ``textblob``, and ``gensim``. You might have to install them first; running the below cell will do that for you (it may take a minute or two)."
   ]
  },
  {
   "cell_type": "code",
   "execution_count": 404,
   "metadata": {
    "scrolled": true
   },
   "outputs": [
    {
     "name": "stdout",
     "output_type": "stream",
     "text": [
      "Requirement already satisfied: spacy in /opt/anaconda3/lib/python3.7/site-packages (3.0.6)\n",
      "Requirement already satisfied: typer<0.4.0,>=0.3.0 in /opt/anaconda3/lib/python3.7/site-packages (from spacy) (0.3.2)\n",
      "Requirement already satisfied: typing-extensions<4.0.0.0,>=3.7.4 in /opt/anaconda3/lib/python3.7/site-packages (from spacy) (3.7.4.3)\n",
      "Requirement already satisfied: pydantic<1.8.0,>=1.7.1 in /opt/anaconda3/lib/python3.7/site-packages (from spacy) (1.7.3)\n",
      "Requirement already satisfied: pathy>=0.3.5 in /opt/anaconda3/lib/python3.7/site-packages (from spacy) (0.5.2)\n",
      "Requirement already satisfied: jinja2 in /opt/anaconda3/lib/python3.7/site-packages (from spacy) (2.11.1)\n",
      "Requirement already satisfied: spacy-legacy<3.1.0,>=3.0.4 in /opt/anaconda3/lib/python3.7/site-packages (from spacy) (3.0.5)\n",
      "Requirement already satisfied: catalogue<2.1.0,>=2.0.3 in /opt/anaconda3/lib/python3.7/site-packages (from spacy) (2.0.4)\n",
      "Requirement already satisfied: requests<3.0.0,>=2.13.0 in /opt/anaconda3/lib/python3.7/site-packages (from spacy) (2.28.1)\n",
      "Requirement already satisfied: numpy>=1.15.0 in /opt/anaconda3/lib/python3.7/site-packages (from spacy) (1.21.6)\n",
      "Requirement already satisfied: tqdm<5.0.0,>=4.38.0 in /opt/anaconda3/lib/python3.7/site-packages (from spacy) (4.64.0)\n",
      "Requirement already satisfied: cymem<2.1.0,>=2.0.2 in /opt/anaconda3/lib/python3.7/site-packages (from spacy) (2.0.3)\n",
      "Requirement already satisfied: srsly<3.0.0,>=2.4.1 in /opt/anaconda3/lib/python3.7/site-packages (from spacy) (2.4.1)\n",
      "Requirement already satisfied: setuptools in /opt/anaconda3/lib/python3.7/site-packages (from spacy) (63.4.2)\n",
      "Requirement already satisfied: thinc<8.1.0,>=8.0.3 in /opt/anaconda3/lib/python3.7/site-packages (from spacy) (8.0.3)\n",
      "Requirement already satisfied: preshed<3.1.0,>=3.0.2 in /opt/anaconda3/lib/python3.7/site-packages (from spacy) (3.0.2)\n",
      "Requirement already satisfied: blis<0.8.0,>=0.4.0 in /opt/anaconda3/lib/python3.7/site-packages (from spacy) (0.4.1)\n",
      "Requirement already satisfied: wasabi<1.1.0,>=0.8.1 in /opt/anaconda3/lib/python3.7/site-packages (from spacy) (0.8.2)\n",
      "Requirement already satisfied: packaging>=20.0 in /opt/anaconda3/lib/python3.7/site-packages (from spacy) (21.3)\n",
      "Requirement already satisfied: murmurhash<1.1.0,>=0.28.0 in /opt/anaconda3/lib/python3.7/site-packages (from spacy) (1.0.2)\n",
      "Requirement already satisfied: zipp>=0.5 in /opt/anaconda3/lib/python3.7/site-packages (from catalogue<2.1.0,>=2.0.3->spacy) (2.2.0)\n",
      "Requirement already satisfied: pyparsing!=3.0.5,>=2.0.2 in /opt/anaconda3/lib/python3.7/site-packages (from packaging>=20.0->spacy) (2.4.6)\n",
      "Requirement already satisfied: smart-open<4.0.0,>=2.2.0 in /opt/anaconda3/lib/python3.7/site-packages (from pathy>=0.3.5->spacy) (3.0.0)\n",
      "Requirement already satisfied: urllib3<1.27,>=1.21.1 in /opt/anaconda3/lib/python3.7/site-packages (from requests<3.0.0,>=2.13.0->spacy) (1.25.8)\n",
      "Requirement already satisfied: charset-normalizer<3,>=2 in /opt/anaconda3/lib/python3.7/site-packages (from requests<3.0.0,>=2.13.0->spacy) (2.1.1)\n",
      "Requirement already satisfied: idna<4,>=2.5 in /opt/anaconda3/lib/python3.7/site-packages (from requests<3.0.0,>=2.13.0->spacy) (2.8)\n",
      "Requirement already satisfied: certifi>=2017.4.17 in /opt/anaconda3/lib/python3.7/site-packages (from requests<3.0.0,>=2.13.0->spacy) (2019.11.28)\n",
      "Requirement already satisfied: click<7.2.0,>=7.1.1 in /opt/anaconda3/lib/python3.7/site-packages (from typer<0.4.0,>=0.3.0->spacy) (7.1.2)\n",
      "Requirement already satisfied: MarkupSafe>=0.23 in /opt/anaconda3/lib/python3.7/site-packages (from jinja2->spacy) (1.1.1)\n",
      "Requirement already satisfied: spacytextblob in /opt/anaconda3/lib/python3.7/site-packages (4.0.0)\n",
      "Requirement already satisfied: textblob<0.16.0,>=0.15.3 in /opt/anaconda3/lib/python3.7/site-packages (from spacytextblob) (0.15.3)\n",
      "Requirement already satisfied: spacy<4.0,>=3.0 in /opt/anaconda3/lib/python3.7/site-packages (from spacytextblob) (3.0.6)\n",
      "Requirement already satisfied: jinja2 in /opt/anaconda3/lib/python3.7/site-packages (from spacy<4.0,>=3.0->spacytextblob) (2.11.1)\n",
      "Requirement already satisfied: numpy>=1.15.0 in /opt/anaconda3/lib/python3.7/site-packages (from spacy<4.0,>=3.0->spacytextblob) (1.21.6)\n",
      "Requirement already satisfied: typing-extensions<4.0.0.0,>=3.7.4 in /opt/anaconda3/lib/python3.7/site-packages (from spacy<4.0,>=3.0->spacytextblob) (3.7.4.3)\n",
      "Requirement already satisfied: thinc<8.1.0,>=8.0.3 in /opt/anaconda3/lib/python3.7/site-packages (from spacy<4.0,>=3.0->spacytextblob) (8.0.3)\n",
      "Requirement already satisfied: typer<0.4.0,>=0.3.0 in /opt/anaconda3/lib/python3.7/site-packages (from spacy<4.0,>=3.0->spacytextblob) (0.3.2)\n",
      "Requirement already satisfied: catalogue<2.1.0,>=2.0.3 in /opt/anaconda3/lib/python3.7/site-packages (from spacy<4.0,>=3.0->spacytextblob) (2.0.4)\n",
      "Requirement already satisfied: cymem<2.1.0,>=2.0.2 in /opt/anaconda3/lib/python3.7/site-packages (from spacy<4.0,>=3.0->spacytextblob) (2.0.3)\n",
      "Requirement already satisfied: requests<3.0.0,>=2.13.0 in /opt/anaconda3/lib/python3.7/site-packages (from spacy<4.0,>=3.0->spacytextblob) (2.28.1)\n",
      "Requirement already satisfied: blis<0.8.0,>=0.4.0 in /opt/anaconda3/lib/python3.7/site-packages (from spacy<4.0,>=3.0->spacytextblob) (0.4.1)\n",
      "Requirement already satisfied: packaging>=20.0 in /opt/anaconda3/lib/python3.7/site-packages (from spacy<4.0,>=3.0->spacytextblob) (21.3)\n",
      "Requirement already satisfied: spacy-legacy<3.1.0,>=3.0.4 in /opt/anaconda3/lib/python3.7/site-packages (from spacy<4.0,>=3.0->spacytextblob) (3.0.5)\n",
      "Requirement already satisfied: wasabi<1.1.0,>=0.8.1 in /opt/anaconda3/lib/python3.7/site-packages (from spacy<4.0,>=3.0->spacytextblob) (0.8.2)\n",
      "Requirement already satisfied: setuptools in /opt/anaconda3/lib/python3.7/site-packages (from spacy<4.0,>=3.0->spacytextblob) (63.4.2)\n",
      "Requirement already satisfied: srsly<3.0.0,>=2.4.1 in /opt/anaconda3/lib/python3.7/site-packages (from spacy<4.0,>=3.0->spacytextblob) (2.4.1)\n",
      "Requirement already satisfied: tqdm<5.0.0,>=4.38.0 in /opt/anaconda3/lib/python3.7/site-packages (from spacy<4.0,>=3.0->spacytextblob) (4.64.0)\n",
      "Requirement already satisfied: murmurhash<1.1.0,>=0.28.0 in /opt/anaconda3/lib/python3.7/site-packages (from spacy<4.0,>=3.0->spacytextblob) (1.0.2)\n",
      "Requirement already satisfied: pydantic<1.8.0,>=1.7.1 in /opt/anaconda3/lib/python3.7/site-packages (from spacy<4.0,>=3.0->spacytextblob) (1.7.3)\n",
      "Requirement already satisfied: preshed<3.1.0,>=3.0.2 in /opt/anaconda3/lib/python3.7/site-packages (from spacy<4.0,>=3.0->spacytextblob) (3.0.2)\n",
      "Requirement already satisfied: pathy>=0.3.5 in /opt/anaconda3/lib/python3.7/site-packages (from spacy<4.0,>=3.0->spacytextblob) (0.5.2)\n",
      "Requirement already satisfied: nltk>=3.1 in /opt/anaconda3/lib/python3.7/site-packages (from textblob<0.16.0,>=0.15.3->spacytextblob) (3.4.5)\n",
      "Requirement already satisfied: zipp>=0.5 in /opt/anaconda3/lib/python3.7/site-packages (from catalogue<2.1.0,>=2.0.3->spacy<4.0,>=3.0->spacytextblob) (2.2.0)\n",
      "Requirement already satisfied: six in /opt/anaconda3/lib/python3.7/site-packages (from nltk>=3.1->textblob<0.16.0,>=0.15.3->spacytextblob) (1.15.0)\n",
      "Requirement already satisfied: pyparsing!=3.0.5,>=2.0.2 in /opt/anaconda3/lib/python3.7/site-packages (from packaging>=20.0->spacy<4.0,>=3.0->spacytextblob) (2.4.6)\n",
      "Requirement already satisfied: smart-open<4.0.0,>=2.2.0 in /opt/anaconda3/lib/python3.7/site-packages (from pathy>=0.3.5->spacy<4.0,>=3.0->spacytextblob) (3.0.0)\n",
      "Requirement already satisfied: urllib3<1.27,>=1.21.1 in /opt/anaconda3/lib/python3.7/site-packages (from requests<3.0.0,>=2.13.0->spacy<4.0,>=3.0->spacytextblob) (1.25.8)\n",
      "Requirement already satisfied: idna<4,>=2.5 in /opt/anaconda3/lib/python3.7/site-packages (from requests<3.0.0,>=2.13.0->spacy<4.0,>=3.0->spacytextblob) (2.8)\n",
      "Requirement already satisfied: charset-normalizer<3,>=2 in /opt/anaconda3/lib/python3.7/site-packages (from requests<3.0.0,>=2.13.0->spacy<4.0,>=3.0->spacytextblob) (2.1.1)\n",
      "Requirement already satisfied: certifi>=2017.4.17 in /opt/anaconda3/lib/python3.7/site-packages (from requests<3.0.0,>=2.13.0->spacy<4.0,>=3.0->spacytextblob) (2019.11.28)\n",
      "Requirement already satisfied: click<7.2.0,>=7.1.1 in /opt/anaconda3/lib/python3.7/site-packages (from typer<0.4.0,>=0.3.0->spacy<4.0,>=3.0->spacytextblob) (7.1.2)\n",
      "Requirement already satisfied: MarkupSafe>=0.23 in /opt/anaconda3/lib/python3.7/site-packages (from jinja2->spacy<4.0,>=3.0->spacytextblob) (1.1.1)\n"
     ]
    },
    {
     "name": "stdout",
     "output_type": "stream",
     "text": [
      "Requirement already satisfied: gensim in /opt/anaconda3/lib/python3.7/site-packages (4.1.2)\n",
      "Collecting gensim\n",
      "  Downloading gensim-4.2.0-cp37-cp37m-macosx_10_9_x86_64.whl (24.0 MB)\n",
      "\u001b[2K     \u001b[90m━━━━━━━━━━━━━━━━━━━━━━━━━━━━━━━━━━━━━━━━\u001b[0m \u001b[32m24.0/24.0 MB\u001b[0m \u001b[31m12.1 MB/s\u001b[0m eta \u001b[36m0:00:00\u001b[0m00:01\u001b[0m00:01\u001b[0m\n",
      "\u001b[?25hRequirement already satisfied: numpy>=1.17.0 in /opt/anaconda3/lib/python3.7/site-packages (from gensim) (1.21.6)\n",
      "Requirement already satisfied: scipy>=0.18.1 in /opt/anaconda3/lib/python3.7/site-packages (from gensim) (1.7.3)\n",
      "Requirement already satisfied: smart-open>=1.8.1 in /opt/anaconda3/lib/python3.7/site-packages (from gensim) (3.0.0)\n",
      "Requirement already satisfied: requests in /opt/anaconda3/lib/python3.7/site-packages (from smart-open>=1.8.1->gensim) (2.28.1)\n",
      "Requirement already satisfied: idna<4,>=2.5 in /opt/anaconda3/lib/python3.7/site-packages (from requests->smart-open>=1.8.1->gensim) (2.8)\n",
      "Requirement already satisfied: charset-normalizer<3,>=2 in /opt/anaconda3/lib/python3.7/site-packages (from requests->smart-open>=1.8.1->gensim) (2.1.1)\n",
      "Requirement already satisfied: urllib3<1.27,>=1.21.1 in /opt/anaconda3/lib/python3.7/site-packages (from requests->smart-open>=1.8.1->gensim) (1.25.8)\n",
      "Requirement already satisfied: certifi>=2017.4.17 in /opt/anaconda3/lib/python3.7/site-packages (from requests->smart-open>=1.8.1->gensim) (2019.11.28)\n",
      "Installing collected packages: gensim\n",
      "  Attempting uninstall: gensim\n",
      "    Found existing installation: gensim 4.1.2\n",
      "    Uninstalling gensim-4.1.2:\n",
      "      Successfully uninstalled gensim-4.1.2\n",
      "Successfully installed gensim-4.2.0\n",
      "Requirement already satisfied: pyldavis in /opt/anaconda3/lib/python3.7/site-packages (3.3.1)\n",
      "Requirement already satisfied: numpy>=1.20.0 in /opt/anaconda3/lib/python3.7/site-packages (from pyldavis) (1.21.6)\n",
      "Requirement already satisfied: setuptools in /opt/anaconda3/lib/python3.7/site-packages (from pyldavis) (63.4.2)\n",
      "Requirement already satisfied: joblib in /opt/anaconda3/lib/python3.7/site-packages (from pyldavis) (1.1.0)\n",
      "Requirement already satisfied: jinja2 in /opt/anaconda3/lib/python3.7/site-packages (from pyldavis) (2.11.1)\n",
      "Requirement already satisfied: numexpr in /opt/anaconda3/lib/python3.7/site-packages (from pyldavis) (2.7.1)\n",
      "Requirement already satisfied: funcy in /opt/anaconda3/lib/python3.7/site-packages (from pyldavis) (1.17)\n",
      "Requirement already satisfied: sklearn in /opt/anaconda3/lib/python3.7/site-packages (from pyldavis) (0.0)\n",
      "Requirement already satisfied: pandas>=1.2.0 in /opt/anaconda3/lib/python3.7/site-packages (from pyldavis) (1.3.5)\n",
      "Requirement already satisfied: future in /opt/anaconda3/lib/python3.7/site-packages (from pyldavis) (0.18.2)\n",
      "Requirement already satisfied: scikit-learn in /opt/anaconda3/lib/python3.7/site-packages (from pyldavis) (1.0.2)\n",
      "Requirement already satisfied: gensim in /opt/anaconda3/lib/python3.7/site-packages (from pyldavis) (4.2.0)\n",
      "Requirement already satisfied: scipy in /opt/anaconda3/lib/python3.7/site-packages (from pyldavis) (1.7.3)\n",
      "Requirement already satisfied: pytz>=2017.3 in /opt/anaconda3/lib/python3.7/site-packages (from pandas>=1.2.0->pyldavis) (2019.3)\n",
      "Requirement already satisfied: python-dateutil>=2.7.3 in /opt/anaconda3/lib/python3.7/site-packages (from pandas>=1.2.0->pyldavis) (2.8.1)\n",
      "Requirement already satisfied: smart-open>=1.8.1 in /opt/anaconda3/lib/python3.7/site-packages (from gensim->pyldavis) (3.0.0)\n",
      "Requirement already satisfied: MarkupSafe>=0.23 in /opt/anaconda3/lib/python3.7/site-packages (from jinja2->pyldavis) (1.1.1)\n",
      "Requirement already satisfied: threadpoolctl>=2.0.0 in /opt/anaconda3/lib/python3.7/site-packages (from scikit-learn->pyldavis) (3.1.0)\n",
      "Requirement already satisfied: six>=1.5 in /opt/anaconda3/lib/python3.7/site-packages (from python-dateutil>=2.7.3->pandas>=1.2.0->pyldavis) (1.15.0)\n",
      "Requirement already satisfied: requests in /opt/anaconda3/lib/python3.7/site-packages (from smart-open>=1.8.1->gensim->pyldavis) (2.28.1)\n",
      "Requirement already satisfied: charset-normalizer<3,>=2 in /opt/anaconda3/lib/python3.7/site-packages (from requests->smart-open>=1.8.1->gensim->pyldavis) (2.1.1)\n",
      "Requirement already satisfied: urllib3<1.27,>=1.21.1 in /opt/anaconda3/lib/python3.7/site-packages (from requests->smart-open>=1.8.1->gensim->pyldavis) (1.25.8)\n",
      "Requirement already satisfied: certifi>=2017.4.17 in /opt/anaconda3/lib/python3.7/site-packages (from requests->smart-open>=1.8.1->gensim->pyldavis) (2019.11.28)\n",
      "Requirement already satisfied: idna<4,>=2.5 in /opt/anaconda3/lib/python3.7/site-packages (from requests->smart-open>=1.8.1->gensim->pyldavis) (2.8)\n",
      "[nltk_data] Downloading package brown to /Users/jack/nltk_data...\n",
      "[nltk_data]   Package brown is already up-to-date!\n",
      "[nltk_data] Downloading package punkt to /Users/jack/nltk_data...\n",
      "[nltk_data]   Package punkt is already up-to-date!\n",
      "[nltk_data] Downloading package wordnet to /Users/jack/nltk_data...\n",
      "[nltk_data]   Package wordnet is already up-to-date!\n",
      "[nltk_data] Downloading package averaged_perceptron_tagger to\n",
      "[nltk_data]     /Users/jack/nltk_data...\n",
      "[nltk_data]   Package averaged_perceptron_tagger is already up-to-\n",
      "[nltk_data]       date!\n",
      "[nltk_data] Downloading package conll2000 to /Users/jack/nltk_data...\n",
      "[nltk_data]   Package conll2000 is already up-to-date!\n",
      "[nltk_data] Downloading package movie_reviews to\n",
      "[nltk_data]     /Users/jack/nltk_data...\n",
      "[nltk_data]   Package movie_reviews is already up-to-date!\n",
      "Finished.\n",
      "Collecting en-core-web-sm==3.0.0\n",
      "  Downloading https://github.com/explosion/spacy-models/releases/download/en_core_web_sm-3.0.0/en_core_web_sm-3.0.0-py3-none-any.whl (13.7 MB)\n",
      "\u001b[2K     \u001b[90m━━━━━━━━━━━━━━━━━━━━━━━━━━━━━━━━━━━━━━━━\u001b[0m \u001b[32m13.7/13.7 MB\u001b[0m \u001b[31m12.2 MB/s\u001b[0m eta \u001b[36m0:00:00\u001b[0m00:01\u001b[0m00:01\u001b[0m\n",
      "\u001b[?25hRequirement already satisfied: spacy<3.1.0,>=3.0.0 in /opt/anaconda3/lib/python3.7/site-packages (from en-core-web-sm==3.0.0) (3.0.6)\n",
      "Requirement already satisfied: pydantic<1.8.0,>=1.7.1 in /opt/anaconda3/lib/python3.7/site-packages (from spacy<3.1.0,>=3.0.0->en-core-web-sm==3.0.0) (1.7.3)\n",
      "Requirement already satisfied: jinja2 in /opt/anaconda3/lib/python3.7/site-packages (from spacy<3.1.0,>=3.0.0->en-core-web-sm==3.0.0) (2.11.1)\n",
      "Requirement already satisfied: numpy>=1.15.0 in /opt/anaconda3/lib/python3.7/site-packages (from spacy<3.1.0,>=3.0.0->en-core-web-sm==3.0.0) (1.21.6)\n",
      "Requirement already satisfied: setuptools in /opt/anaconda3/lib/python3.7/site-packages (from spacy<3.1.0,>=3.0.0->en-core-web-sm==3.0.0) (63.4.2)\n",
      "Requirement already satisfied: cymem<2.1.0,>=2.0.2 in /opt/anaconda3/lib/python3.7/site-packages (from spacy<3.1.0,>=3.0.0->en-core-web-sm==3.0.0) (2.0.3)\n",
      "Requirement already satisfied: requests<3.0.0,>=2.13.0 in /opt/anaconda3/lib/python3.7/site-packages (from spacy<3.1.0,>=3.0.0->en-core-web-sm==3.0.0) (2.28.1)\n",
      "Requirement already satisfied: packaging>=20.0 in /opt/anaconda3/lib/python3.7/site-packages (from spacy<3.1.0,>=3.0.0->en-core-web-sm==3.0.0) (21.3)\n",
      "Requirement already satisfied: tqdm<5.0.0,>=4.38.0 in /opt/anaconda3/lib/python3.7/site-packages (from spacy<3.1.0,>=3.0.0->en-core-web-sm==3.0.0) (4.64.0)\n",
      "Requirement already satisfied: wasabi<1.1.0,>=0.8.1 in /opt/anaconda3/lib/python3.7/site-packages (from spacy<3.1.0,>=3.0.0->en-core-web-sm==3.0.0) (0.8.2)\n",
      "Requirement already satisfied: spacy-legacy<3.1.0,>=3.0.4 in /opt/anaconda3/lib/python3.7/site-packages (from spacy<3.1.0,>=3.0.0->en-core-web-sm==3.0.0) (3.0.5)\n",
      "Requirement already satisfied: thinc<8.1.0,>=8.0.3 in /opt/anaconda3/lib/python3.7/site-packages (from spacy<3.1.0,>=3.0.0->en-core-web-sm==3.0.0) (8.0.3)\n",
      "Requirement already satisfied: preshed<3.1.0,>=3.0.2 in /opt/anaconda3/lib/python3.7/site-packages (from spacy<3.1.0,>=3.0.0->en-core-web-sm==3.0.0) (3.0.2)\n",
      "Requirement already satisfied: typing-extensions<4.0.0.0,>=3.7.4 in /opt/anaconda3/lib/python3.7/site-packages (from spacy<3.1.0,>=3.0.0->en-core-web-sm==3.0.0) (3.7.4.3)\n",
      "Requirement already satisfied: pathy>=0.3.5 in /opt/anaconda3/lib/python3.7/site-packages (from spacy<3.1.0,>=3.0.0->en-core-web-sm==3.0.0) (0.5.2)\n",
      "Requirement already satisfied: typer<0.4.0,>=0.3.0 in /opt/anaconda3/lib/python3.7/site-packages (from spacy<3.1.0,>=3.0.0->en-core-web-sm==3.0.0) (0.3.2)\n",
      "Requirement already satisfied: catalogue<2.1.0,>=2.0.3 in /opt/anaconda3/lib/python3.7/site-packages (from spacy<3.1.0,>=3.0.0->en-core-web-sm==3.0.0) (2.0.4)\n",
      "Requirement already satisfied: srsly<3.0.0,>=2.4.1 in /opt/anaconda3/lib/python3.7/site-packages (from spacy<3.1.0,>=3.0.0->en-core-web-sm==3.0.0) (2.4.1)\n",
      "Requirement already satisfied: murmurhash<1.1.0,>=0.28.0 in /opt/anaconda3/lib/python3.7/site-packages (from spacy<3.1.0,>=3.0.0->en-core-web-sm==3.0.0) (1.0.2)\n",
      "Requirement already satisfied: blis<0.8.0,>=0.4.0 in /opt/anaconda3/lib/python3.7/site-packages (from spacy<3.1.0,>=3.0.0->en-core-web-sm==3.0.0) (0.4.1)\n",
      "Requirement already satisfied: zipp>=0.5 in /opt/anaconda3/lib/python3.7/site-packages (from catalogue<2.1.0,>=2.0.3->spacy<3.1.0,>=3.0.0->en-core-web-sm==3.0.0) (2.2.0)\n"
     ]
    },
    {
     "name": "stdout",
     "output_type": "stream",
     "text": [
      "Requirement already satisfied: pyparsing!=3.0.5,>=2.0.2 in /opt/anaconda3/lib/python3.7/site-packages (from packaging>=20.0->spacy<3.1.0,>=3.0.0->en-core-web-sm==3.0.0) (2.4.6)\n",
      "Requirement already satisfied: smart-open<4.0.0,>=2.2.0 in /opt/anaconda3/lib/python3.7/site-packages (from pathy>=0.3.5->spacy<3.1.0,>=3.0.0->en-core-web-sm==3.0.0) (3.0.0)\n",
      "Requirement already satisfied: idna<4,>=2.5 in /opt/anaconda3/lib/python3.7/site-packages (from requests<3.0.0,>=2.13.0->spacy<3.1.0,>=3.0.0->en-core-web-sm==3.0.0) (2.8)\n",
      "Requirement already satisfied: charset-normalizer<3,>=2 in /opt/anaconda3/lib/python3.7/site-packages (from requests<3.0.0,>=2.13.0->spacy<3.1.0,>=3.0.0->en-core-web-sm==3.0.0) (2.1.1)\n",
      "Requirement already satisfied: urllib3<1.27,>=1.21.1 in /opt/anaconda3/lib/python3.7/site-packages (from requests<3.0.0,>=2.13.0->spacy<3.1.0,>=3.0.0->en-core-web-sm==3.0.0) (1.25.8)\n",
      "Requirement already satisfied: certifi>=2017.4.17 in /opt/anaconda3/lib/python3.7/site-packages (from requests<3.0.0,>=2.13.0->spacy<3.1.0,>=3.0.0->en-core-web-sm==3.0.0) (2019.11.28)\n",
      "Requirement already satisfied: click<7.2.0,>=7.1.1 in /opt/anaconda3/lib/python3.7/site-packages (from typer<0.4.0,>=0.3.0->spacy<3.1.0,>=3.0.0->en-core-web-sm==3.0.0) (7.1.2)\n",
      "Requirement already satisfied: MarkupSafe>=0.23 in /opt/anaconda3/lib/python3.7/site-packages (from jinja2->spacy<3.1.0,>=3.0.0->en-core-web-sm==3.0.0) (1.1.1)\n",
      "\u001b[38;5;2m✔ Download and installation successful\u001b[0m\n",
      "You can now load the package via spacy.load('en_core_web_sm')\n"
     ]
    }
   ],
   "source": [
    "! pip install spacy\n",
    "! pip install spacytextblob\n",
    "! pip install -U gensim\n",
    "! pip install pyldavis\n",
    "! python -m textblob.download_corpora\n",
    "! python -m spacy download en_core_web_sm\n"
   ]
  },
  {
   "cell_type": "markdown",
   "metadata": {},
   "source": [
    "Then import the packages (this might take a minute):"
   ]
  },
  {
   "cell_type": "code",
   "execution_count": 168,
   "metadata": {},
   "outputs": [],
   "source": [
    "import spacy\n",
    "from spacytextblob.spacytextblob import SpacyTextBlob"
   ]
  },
  {
   "cell_type": "markdown",
   "metadata": {},
   "source": [
    "#### Sentiment analysis with ``spacy``"
   ]
  },
  {
   "cell_type": "markdown",
   "metadata": {},
   "source": [
    "``spacy`` makes a lot of complicated natural language processing tasks really easy. However, it uses a  specific kind of syntax which is fairly unique. I've included comments that try to describe what is going on, but don't be surprised if you feel confused about what's going on here.\n",
    "\n",
    "As an example, let's try sentiment analysis. We're going to use a pretrained machine learning model to predict the sentiment (how positive or negative) of a tweet from the text data alone. The below code does that in only a few lines:"
   ]
  },
  {
   "cell_type": "code",
   "execution_count": 410,
   "metadata": {},
   "outputs": [
    {
     "name": "stdout",
     "output_type": "stream",
     "text": [
      "53.74467159907023\n"
     ]
    }
   ],
   "source": [
    "nlp = spacy.load('en_core_web_sm') # here we are loading a pretrained machine learning model for handling text data\n",
    "\n",
    "nlp.add_pipe('spacytextblob') # here we're adding a \"pipe\" to the model; \n",
    "                              # basically, an additional step in between input and output, \n",
    "                              # which is \"switched off\" by default.   \n",
    "\n",
    "# let's make a list to store the sentiment (aka polarity) scores and a list for the subjectivity scores:\n",
    "\n",
    "pols = []\n",
    "subs = []\n",
    "        \n",
    "# Now we're going to iterate over all the tweets:\n",
    "\n",
    "for i in df['text']:\n",
    "    \n",
    "    doc = nlp(i) # here we're creating a variable doc which is the output of passing our text through the nlp model\n",
    "                    # from here we can extract all the information the model extracted from the unstructured text    \n",
    "    polarity = doc._.blob.polarity # here we pull out the polarity (sentiment)    \n",
    "    pols.append(polarity)\n",
    "\n",
    "    \n",
    "df['polarity'] = pols"
   ]
  },
  {
   "cell_type": "code",
   "execution_count": 411,
   "metadata": {},
   "outputs": [
    {
     "data": {
      "image/png": "[encoded data removed]",
      "text/plain": [
       "<Figure size 720x720 with 1 Axes>"
      ]
     },
     "metadata": {
      "needs_background": "light"
     },
     "output_type": "display_data"
    }
   ],
   "source": [
    "plt.figure(figsize=(10,10))\n",
    "\n",
    "plt.hist(df['polarity'],\n",
    "         color=\"grey\",\n",
    "         bins = 50)\n",
    "\n",
    "plt.yscale(\"log\")\n",
    "\n",
    "plt.xlabel(\"Polarity\")\n",
    "plt.ylabel(\"Number of tweets\")\n",
    "plt.title(\"Distribution of tweet sentiment\")\n",
    "\n",
    "plt.show()"
   ]
  },
  {
   "cell_type": "markdown",
   "metadata": {},
   "source": [
    "#### Semantic similarity with ``word2vec`` and Yelp reviews"
   ]
  },
  {
   "cell_type": "markdown",
   "metadata": {},
   "source": [
    "A common task in NLP is **\"semantic representation\"**: finding ways of representing the \"meaning\" of a word, sentence, or document. Of course, computers don't understand meaning. But they can learn from patterns in really large corpora of natural language, and use the information in those patterns to try to predict which words, sentences, and documents are \"similar\" to each other in other collections of text.\n",
    "\n",
    "To do this, they use methods of converting unstructured text data in **vector** representation. By vector representation, we mean taking each unit (word, sentence, or document) into a sequence of numbers.\n",
    "\n",
    "The simplest, and original, way of doing this is called a **\"document-term matrix.\"** Imagine a table where each row represents a document, and each column represents a unique word in the collection of documents. The value in a given cell would represent the number of times the column word appears in the row document.\n",
    "\n",
    "Imagine a really simple corpus of three documents:\n",
    "- Doc 1: \"I like dogs\"\n",
    "- Doc 2: \"I dislike dogs\"\n",
    "- Doc 3: \"I like cats\"\n",
    "\n",
    "The document-term matrix would look like this:\n",
    "\n",
    "|             | I | like | dislike | dogs | cats | \n",
    "| ----------- | ----------- | ----------- | ----------- | ----------- | ----------- |\n",
    "| Doc 1      | 1       | 1       | 0       | 1       | 0       |\n",
    "| Doc 2   | 1        | 0       | 1       | 1       | 0       |\n",
    "| Doc 3   | 1        | 1       | 0       | 0       | 1       |\n",
    "\n",
    "For years, NLP researchers have shown that you can use these sorts of matrices as the starting point for all sorts of representations of how these documents relate to one another. You can imagine these sequences of numbers for each document as coordinates in high-dimensional space; if two documents are closer to each other in that space, they are likely to have similar meanings.\n",
    "\n",
    "More recently, rather than using simple word-count information, very complicated machine learning models are used to take unstructured data and represent them as vectors. These models are called **word embedding models** and are widespread in NLP research, including applied NLP. We're going to be using one called ``word2vec`` to examine which words are most similar to one another in a corpus of Yelp reviews."
   ]
  },
  {
   "cell_type": "code",
   "execution_count": 412,
   "metadata": {},
   "outputs": [],
   "source": [
    "yelp_url = \"https://raw.githubusercontent.com/justmarkham/DAT7/master/data/yelp.csv\""
   ]
  },
  {
   "cell_type": "code",
   "execution_count": 414,
   "metadata": {
    "scrolled": true
   },
   "outputs": [
    {
     "data": {
      "text/html": [
       "<div>\n",
       "<style scoped>\n",
       "    .dataframe tbody tr th:only-of-type {\n",
       "        vertical-align: middle;\n",
       "    }\n",
       "\n",
       "    .dataframe tbody tr th {\n",
       "        vertical-align: top;\n",
       "    }\n",
       "\n",
       "    .dataframe thead th {\n",
       "        text-align: right;\n",
       "    }\n",
       "</style>\n",
       "<table border=\"1\" class=\"dataframe\">\n",
       "  <thead>\n",
       "    <tr style=\"text-align: right;\">\n",
       "      <th></th>\n",
       "      <th>business_id</th>\n",
       "      <th>date</th>\n",
       "      <th>review_id</th>\n",
       "      <th>stars</th>\n",
       "      <th>text</th>\n",
       "      <th>type</th>\n",
       "      <th>user_id</th>\n",
       "      <th>cool</th>\n",
       "      <th>useful</th>\n",
       "      <th>funny</th>\n",
       "    </tr>\n",
       "  </thead>\n",
       "  <tbody>\n",
       "    <tr>\n",
       "      <th>0</th>\n",
       "      <td>9yKzy9PApeiPPOUJEtnvkg</td>\n",
       "      <td>2011-01-26</td>\n",
       "      <td>fWKvX83p0-ka4JS3dc6E5A</td>\n",
       "      <td>5</td>\n",
       "      <td>My wife took me here on my birthday for breakf...</td>\n",
       "      <td>review</td>\n",
       "      <td>rLtl8ZkDX5vH5nAx9C3q5Q</td>\n",
       "      <td>2</td>\n",
       "      <td>5</td>\n",
       "      <td>0</td>\n",
       "    </tr>\n",
       "    <tr>\n",
       "      <th>1</th>\n",
       "      <td>ZRJwVLyzEJq1VAihDhYiow</td>\n",
       "      <td>2011-07-27</td>\n",
       "      <td>IjZ33sJrzXqU-0X6U8NwyA</td>\n",
       "      <td>5</td>\n",
       "      <td>I have no idea why some people give bad review...</td>\n",
       "      <td>review</td>\n",
       "      <td>0a2KyEL0d3Yb1V6aivbIuQ</td>\n",
       "      <td>0</td>\n",
       "      <td>0</td>\n",
       "      <td>0</td>\n",
       "    </tr>\n",
       "    <tr>\n",
       "      <th>2</th>\n",
       "      <td>6oRAC4uyJCsJl1X0WZpVSA</td>\n",
       "      <td>2012-06-14</td>\n",
       "      <td>IESLBzqUCLdSzSqm0eCSxQ</td>\n",
       "      <td>4</td>\n",
       "      <td>love the gyro plate. Rice is so good and I als...</td>\n",
       "      <td>review</td>\n",
       "      <td>0hT2KtfLiobPvh6cDC8JQg</td>\n",
       "      <td>0</td>\n",
       "      <td>1</td>\n",
       "      <td>0</td>\n",
       "    </tr>\n",
       "    <tr>\n",
       "      <th>3</th>\n",
       "      <td>_1QQZuf4zZOyFCvXc0o6Vg</td>\n",
       "      <td>2010-05-27</td>\n",
       "      <td>G-WvGaISbqqaMHlNnByodA</td>\n",
       "      <td>5</td>\n",
       "      <td>Rosie, Dakota, and I LOVE Chaparral Dog Park!!...</td>\n",
       "      <td>review</td>\n",
       "      <td>uZetl9T0NcROGOyFfughhg</td>\n",
       "      <td>1</td>\n",
       "      <td>2</td>\n",
       "      <td>0</td>\n",
       "    </tr>\n",
       "    <tr>\n",
       "      <th>4</th>\n",
       "      <td>6ozycU1RpktNG2-1BroVtw</td>\n",
       "      <td>2012-01-05</td>\n",
       "      <td>1uJFq2r5QfJG_6ExMRCaGw</td>\n",
       "      <td>5</td>\n",
       "      <td>General Manager Scott Petello is a good egg!!!...</td>\n",
       "      <td>review</td>\n",
       "      <td>vYmM4KTsC8ZfQBg-j5MWkw</td>\n",
       "      <td>0</td>\n",
       "      <td>0</td>\n",
       "      <td>0</td>\n",
       "    </tr>\n",
       "  </tbody>\n",
       "</table>\n",
       "</div>"
      ],
      "text/plain": [
       "              business_id        date               review_id  stars  \\\n",
       "0  9yKzy9PApeiPPOUJEtnvkg  2011-01-26  fWKvX83p0-ka4JS3dc6E5A      5   \n",
       "1  ZRJwVLyzEJq1VAihDhYiow  2011-07-27  IjZ33sJrzXqU-0X6U8NwyA      5   \n",
       "2  6oRAC4uyJCsJl1X0WZpVSA  2012-06-14  IESLBzqUCLdSzSqm0eCSxQ      4   \n",
       "3  _1QQZuf4zZOyFCvXc0o6Vg  2010-05-27  G-WvGaISbqqaMHlNnByodA      5   \n",
       "4  6ozycU1RpktNG2-1BroVtw  2012-01-05  1uJFq2r5QfJG_6ExMRCaGw      5   \n",
       "\n",
       "                                                text    type  \\\n",
       "0  My wife took me here on my birthday for breakf...  review   \n",
       "1  I have no idea why some people give bad review...  review   \n",
       "2  love the gyro plate. Rice is so good and I als...  review   \n",
       "3  Rosie, Dakota, and I LOVE Chaparral Dog Park!!...  review   \n",
       "4  General Manager Scott Petello is a good egg!!!...  review   \n",
       "\n",
       "                  user_id  cool  useful  funny  \n",
       "0  rLtl8ZkDX5vH5nAx9C3q5Q     2       5      0  \n",
       "1  0a2KyEL0d3Yb1V6aivbIuQ     0       0      0  \n",
       "2  0hT2KtfLiobPvh6cDC8JQg     0       1      0  \n",
       "3  uZetl9T0NcROGOyFfughhg     1       2      0  \n",
       "4  vYmM4KTsC8ZfQBg-j5MWkw     0       0      0  "
      ]
     },
     "execution_count": 414,
     "metadata": {},
     "output_type": "execute_result"
    }
   ],
   "source": [
    "yelp = pd.read_csv(yelp_url)\n",
    "yelp.head()"
   ]
  },
  {
   "cell_type": "markdown",
   "metadata": {},
   "source": [
    "Before we throw our language into word2vec, we need to modify it to make sure it's in the correct format to act as an input as a model. We need to do two things: **clean** the text, and **tokenize** it."
   ]
  },
  {
   "cell_type": "code",
   "execution_count": 415,
   "metadata": {},
   "outputs": [
    {
     "name": "stderr",
     "output_type": "stream",
     "text": [
      "<>:11: DeprecationWarning:\n",
      "\n",
      "invalid escape sequence \\,\n",
      "\n",
      "<>:11: DeprecationWarning:\n",
      "\n",
      "invalid escape sequence \\,\n",
      "\n",
      "<>:11: DeprecationWarning:\n",
      "\n",
      "invalid escape sequence \\,\n",
      "\n",
      "<ipython-input-415-2af9a24bb636>:11: DeprecationWarning:\n",
      "\n",
      "invalid escape sequence \\,\n",
      "\n"
     ]
    },
    {
     "data": {
      "text/plain": [
       "['wife',\n",
       " 'took',\n",
       " 'birthday',\n",
       " 'breakfast',\n",
       " 'excellent',\n",
       " 'weather',\n",
       " 'perfect',\n",
       " 'sitting',\n",
       " 'outside',\n",
       " 'overlooking',\n",
       " 'grounds',\n",
       " 'absolute',\n",
       " 'pleasure',\n",
       " 'waitress',\n",
       " 'excellent',\n",
       " 'food',\n",
       " 'arrived',\n",
       " 'quickly',\n",
       " 'semibusy',\n",
       " 'saturday',\n",
       " 'morning',\n",
       " 'looked',\n",
       " 'like',\n",
       " 'place',\n",
       " 'fills',\n",
       " 'pretty',\n",
       " 'quickly',\n",
       " 'earlier',\n",
       " 'better',\n",
       " 'favor',\n",
       " 'bloody',\n",
       " 'mary',\n",
       " 'phenomenal',\n",
       " 'simply',\n",
       " 'best',\n",
       " 'ive',\n",
       " 'im',\n",
       " 'pretty',\n",
       " 'sure',\n",
       " 'use',\n",
       " 'ingredients',\n",
       " 'garden',\n",
       " 'blend',\n",
       " 'fresh',\n",
       " 'order',\n",
       " 'amazing',\n",
       " 'menu',\n",
       " 'looks',\n",
       " 'excellent',\n",
       " 'white',\n",
       " 'truffle',\n",
       " 'scrambled',\n",
       " 'eggs',\n",
       " 'vegetable',\n",
       " 'skillet',\n",
       " 'tasty',\n",
       " 'delicious',\n",
       " 'came',\n",
       " '2',\n",
       " 'pieces',\n",
       " 'griddled',\n",
       " 'bread',\n",
       " 'amazing',\n",
       " 'absolutely',\n",
       " 'meal',\n",
       " 'complete',\n",
       " 'best',\n",
       " 'toast',\n",
       " 'ive',\n",
       " 'cant',\n",
       " 'wait']"
      ]
     },
     "execution_count": 415,
     "metadata": {},
     "output_type": "execute_result"
    }
   ],
   "source": [
    "# clean text\n",
    "\n",
    "processed_texts = []\n",
    "\n",
    "# lowercase\n",
    "\n",
    "yelp['text'] = yelp['text'].str.lower()\n",
    "\n",
    "# remove punctuation\n",
    "\n",
    "punc = '''!()-[]{};:“'\"\\,<>./?@#$%^&*_~—'''\n",
    "\n",
    "for p in punc:\n",
    "    \n",
    "    yelp['text'] = yelp['text'].str.replace(p, \"\")\n",
    "\n",
    "\n",
    "\n",
    "# remove stopwords\n",
    "\n",
    "stopwords = list(nlp.Defaults.stop_words) # we can get a list of stopwords from the spacy nlp model \n",
    "\n",
    "for i in yelp['text']:\n",
    "    \n",
    "    tokens = i.split() # split the text string into a list of words\n",
    "    \n",
    "    tokens = [t for t in tokens if t not in stopwords]\n",
    "            \n",
    "    processed_texts.append(tokens)\n",
    "             \n",
    "processed_texts[0]"
   ]
  },
  {
   "cell_type": "markdown",
   "metadata": {},
   "source": [
    "We can now pass these tokenized documents to the word2vec model."
   ]
  },
  {
   "cell_type": "code",
   "execution_count": 416,
   "metadata": {},
   "outputs": [],
   "source": [
    "model = gensim.models.Word2Vec(processed_texts)"
   ]
  },
  {
   "cell_type": "markdown",
   "metadata": {},
   "source": [
    "We can do a lot of stuff with this model, but one thing is word-level semantic similarity. We can use the ``most_similar()`` method to input a word and see which other words are most similar to it in our corpus:"
   ]
  },
  {
   "cell_type": "code",
   "execution_count": 418,
   "metadata": {},
   "outputs": [
    {
     "data": {
      "text/plain": [
       "[('waitress', 0.9814196228981018),\n",
       " ('server', 0.9718918204307556),\n",
       " ('quickly', 0.9472075700759888),\n",
       " ('offered', 0.8947402834892273),\n",
       " ('immediately', 0.8897625803947449),\n",
       " ('refilled', 0.8885852694511414),\n",
       " ('manager', 0.8869110941886902),\n",
       " ('seated', 0.8823630809783936),\n",
       " ('bartender', 0.8794933557510376),\n",
       " ('promptly', 0.8790537714958191),\n",
       " ('hostess', 0.8752135038375854),\n",
       " ('asked', 0.8656989932060242),\n",
       " ('menus', 0.8636419773101807),\n",
       " ('arrived', 0.8618442416191101),\n",
       " ('orders', 0.8611522912979126),\n",
       " ('ready', 0.8600093126296997),\n",
       " ('apologized', 0.8599805235862732),\n",
       " ('table', 0.85808926820755),\n",
       " ('counter', 0.8563764691352844),\n",
       " ('took', 0.8558608293533325)]"
      ]
     },
     "execution_count": 418,
     "metadata": {},
     "output_type": "execute_result"
    }
   ],
   "source": [
    "model.wv.most_similar('waiter', topn=20) "
   ]
  },
  {
   "cell_type": "markdown",
   "metadata": {},
   "source": [
    "### The end\n",
    "\n",
    "Some cool social science/digital humanities papers that use word embeddings:\n",
    "\n",
    "- [A Framework for the Computational Linguistic Analysis of Dehumanization](https://www.frontiersin.org/articles/10.3389/frai.2020.00055/full)\n",
    "    - Authors look at the word embeddings of LGBTQ-related terms in the NYT over multiple decades, showing how their semantic associations change as LGBTQ community became less stigmatized\n",
    "\n",
    "- [The Geometry of Culture: Analyzing the Meanings of Class through Word Embeddings\n",
    "](https://journals.sagepub.com/doi/full/10.1177/0003122419877135)\n",
    "\n",
    "    - Authors examine text of millions of books over 100 years, show how gender and class associations have shifted\n",
    "    \n",
    "- [Leveraging the alignment between machine learning and intersectionality: Using word embeddings to measure intersectional experiences of the nineteenth century U.S. South](https://www.sciencedirect.com/science/article/pii/S0304422X21000115)\n",
    "    - Author analyzes narratives from early 19th-century US south, uses intersectionality theory as a framework to analyzes embedding spaces"
   ]
  },
  {
   "cell_type": "code",
   "execution_count": null,
   "metadata": {},
   "outputs": [],
   "source": []
  }
 ],
 "metadata": {
  "kernelspec": {
   "display_name": "Python 3",
   "language": "python",
   "name": "python3"
  },
  "language_info": {
   "codemirror_mode": {
    "name": "ipython",
    "version": 3
   },
   "file_extension": ".py",
   "mimetype": "text/x-python",
   "name": "python",
   "nbconvert_exporter": "python",
   "pygments_lexer": "ipython3",
   "version": "3.7.6"
  }
 },
 "nbformat": 4,
 "nbformat_minor": 4
}
